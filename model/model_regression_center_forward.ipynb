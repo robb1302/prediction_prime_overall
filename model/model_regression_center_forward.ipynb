{
 "cells": [
  {
   "cell_type": "markdown",
   "metadata": {},
   "source": [
    "Find Players with low potentials but high actual Rating\n",
    "- Label Players has a potential higher than 83 but never reaches this potential"
   ]
  },
  {
   "cell_type": "code",
   "execution_count": 1,
   "metadata": {},
   "outputs": [],
   "source": [
    "HYPERTRAINING = False\n",
    "CV = 5\n",
    "SCORING = 'r2'\n",
    "AUTO_FEATURE_SELECT = 'backward'\n",
    "# forward eher schlecht\n",
    "#'neg_mean_squared_error'   nope\n",
    "#r2 sehr gut -> 0.45\n",
    "# 'explained_variance'\n",
    "# HUBER\n",
    "if SCORING in ['neg_mean_squared_error']:\n",
    "    DIRECTION = \"minimize\"\n",
    "else:\n",
    "    DIRECTION = \"maximize\"\n",
    "TRIALS = 30    \n",
    "CLASS_WEIGHTS = 'balanced'\n",
    "EXPERIEMENT_NAME = \"offense_potential_forward\"\n",
    "SAVE_MODEL_NAME = EXPERIEMENT_NAME\n",
    "RUN_NAME = None\n",
    "TARGET_OVERALL = 80\n",
    "\n",
    "PLAYER_ATTRIBUTES = [ 'central','winger','offense','Finishing',  'ShortPassing', 'Volleys', 'Dribbling',  'FKAccuracy', 'LongPassing', 'BallControl',\n",
    "                      'Acceleration', 'SprintSpeed', 'Agility',    'Reactions', 'Balance', \n",
    "                      'ShotPower', 'Jumping',  'LongShots', 'Positioning', 'Vision' ]\n",
    "# PLAYER_ATTRIBUTES = [ 'Age' ,'Dribbling',  'FKAccuracy',  'BallControl','ShotPower','Positioning', 'Penalties' ]\n",
    "PLAYER_ATTRIBUTES = [  'central','offense','Age','Crossing', 'Finishing', 'HeadingAccuracy', 'ShortPassing', 'Volleys', 'Dribbling', 'Curve', 'FKAccuracy', 'LongPassing', 'BallControl',\n",
    "                      'Acceleration', 'SprintSpeed', 'Agility', 'GKPositioning', 'GKReflexes', 'Composure', 'Defensive awareness', 'Reactions', 'Balance', \n",
    "                      'ShotPower', 'Jumping', 'Stamina', 'Strength', 'LongShots', 'Aggression', 'Interceptions', 'Positioning', 'Vision', 'Penalties', 'Marking', \n",
    "                      'StandingTackleshooting_technique', 'SlidingTackle', 'GKDiving', 'GKHandling', 'GKKicking']\n",
    "PLAYER_ATTRIBUTES = ['Reactions', 'age_based_Stamina', 'Positioning', 'ShortPassing',  'Dribbling', 'BallControl',    'Aggression',   'Vision',  'SprintSpeed','shooting']\n",
    "PLAYER_ATTRIBUTES = ['Crossing', 'Finishing','shooting_technique','mental',\n",
    "       'ShortPassing', 'Volleys', 'Dribbling', 'Curve', 'FKAccuracy',\n",
    "       'LongPassing', 'BallControl',  'SprintSpeed', 'Agility',\n",
    "       'Reactions', 'Balance', 'ShotPower', 'Jumping', 'Stamina', 'Strength',\n",
    "       'LongShots', 'Aggression',  'Positioning', 'Vision',\n",
    "       'Penalties',  \n",
    "        'youth_player', 'shooting', \n",
    "       'mental', 'physique', 'Speed', 'ball_handling', 'age_based_Reactions',\n",
    "       'age_based_physique', 'age_based_shooting_technique',\n",
    "       'age_based_Stamina', 'age_based_Positioning', 'age_based_Vision',\n",
    "       'age_based_Finishing', 'age_based_BallControl']\n",
    "\n",
    "PLAYER_ATTRIBUTES = ['FKAccuracy','HeadingAccuracy',\n",
    "       'ShortPassing',  'Dribbling',  \n",
    "        'BallControl',  'SprintSpeed', \n",
    "       'Reactions',    'Strength',\n",
    "       'LongShots', 'Aggression',  'Positioning', 'Vision'\n",
    "]\n",
    "# PLAYER_ATTRIBUTES = [ 'shooting','ShortPassing','Dribbling','BallControl',\n",
    "#                      'Speed',  'Reactions', 'Aggression','mental','age_based_Stamina','Positioning', 'Vision']\n",
    "# PLAYER_ATTRIBUTES = [ 'Finishing',   'LongShots','ShotPower',   'Volleys',   'FKAccuracy',  'HeadingAccuracy',\n",
    "#                       'Positioning', 'Vision' ,'ShortPassing','LongPassing',\n",
    "#                      'BallControl','Dribbling', \n",
    "#                       'Acceleration', 'SprintSpeed', 'Agility','Reactions', \n",
    "#                       'Balance', 'Stamina','Jumping','Composure']\n"
   ]
  },
  {
   "cell_type": "code",
   "execution_count": 2,
   "metadata": {},
   "outputs": [
    {
     "name": "stdout",
     "output_type": "stream",
     "text": [
      "New current directory: c:\\Users\\Robert\\Documents\\Projekte\\statsfaction\n"
     ]
    },
    {
     "name": "stderr",
     "output_type": "stream",
     "text": [
      "IProgress not found. Please update jupyter and ipywidgets. See https://ipywidgets.readthedocs.io/en/stable/user_install.html\n",
      "2023/12/08 21:12:55 INFO mlflow.tracking.fluent: Experiment with name 'offense_potential_forward' does not exist. Creating a new experiment.\n"
     ]
    },
    {
     "data": {
      "text/plain": [
       "<Experiment: artifact_location='file:///c:\\\\Users\\\\Robert\\\\Documents\\\\Projekte\\\\statsfaction\\\\prediction_prime_overall\\\\data\\\\mlflow/289111135741430438', creation_time=1702066375350, experiment_id='289111135741430438', last_update_time=1702066375350, lifecycle_stage='active', name='offense_potential_forward', tags={}>"
      ]
     },
     "execution_count": 2,
     "metadata": {},
     "output_type": "execute_result"
    }
   ],
   "source": [
    "%load_ext autoreload\n",
    "%autoreload 2\n",
    "\n",
    "import sys\n",
    "import os\n",
    "\n",
    "def find_and_append_module_path():\n",
    "    current_dir = os.getcwd()\n",
    "    substring_to_find = 'statsfaction'\n",
    "    index = current_dir.rfind(substring_to_find)\n",
    "    \n",
    "    if index != -1:\n",
    "        # Extract the directory path up to and including the last \"mypath\" occurrence\n",
    "        new_dir = current_dir[:index + (len(substring_to_find))]\n",
    "\n",
    "        # Change the current working directory to the new directory\n",
    "        os.chdir(new_dir)\n",
    "        sys.path.append(new_dir)\n",
    "        # Verify the new current directory\n",
    "        print(\"New current directory:\", os.getcwd())\n",
    "    else:\n",
    "        print(\"No 'mypath' found in the current directory\")\n",
    "\n",
    "find_and_append_module_path()\n",
    "\n",
    "import os\n",
    "import warnings\n",
    "from datetime import datetime\n",
    "import sqlite3\n",
    "import numpy as np\n",
    "import pandas as pd\n",
    "import matplotlib.pyplot as plt\n",
    "\n",
    "from sklearn.model_selection import train_test_split\n",
    "from sklearn.preprocessing import StandardScaler\n",
    "from sklearn.linear_model import LinearRegression, HuberRegressor, Ridge\n",
    "from sklearn.metrics import mean_squared_error, mean_absolute_error, r2_score, classification_report\n",
    "\n",
    "import mlflow\n",
    "import mlflow.sklearn\n",
    "import mlflow.xgboost\n",
    "import mlflow.lightgbm\n",
    "\n",
    "from prediction_prime_overall.src.prepare import (\n",
    "    add_features_raw,\n",
    "    select_features\n",
    ")\n",
    "from prediction_prime_overall.src.eval import (\n",
    "    plot_feature_importance,\n",
    "    plot_shap_summary,\n",
    "    plot_auc_curves,\n",
    "    log_metrics_in_mlflow_regression,\n",
    "    log_metrics_in_mlflow,\n",
    "    log_feature_list_as_artifact\n",
    ")\n",
    "import prediction_prime_overall.config as CONFIG\n",
    "from prediction_prime_overall.src.utils import *\n",
    "\n",
    "\n",
    "mlflow.set_tracking_uri(\"file:///\"+CONFIG.MLFLOW)\n",
    "mlflow.set_experiment(EXPERIEMENT_NAME)\n"
   ]
  },
  {
   "cell_type": "markdown",
   "metadata": {},
   "source": [
    "### Get Data"
   ]
  },
  {
   "cell_type": "code",
   "execution_count": 3,
   "metadata": {},
   "outputs": [],
   "source": [
    "sql_prime = \"\"\"\n",
    "SELECT max(Age) as prime_age,* FROM(SELECT MAX(Overall) AS PrimeOverall,*\n",
    "  FROM fifa\n",
    "  GROUP BY ID ) \n",
    "  GROUP BY ID\n",
    "  order by PrimeOverall DESC;\n",
    "\"\"\"\n",
    "\n",
    "sql_potentials = f\"\"\"\n",
    "SELECT min(Age) as potential_age,* FROM  (SELECT *,Potential as max_potential FROM fifa WHERE Potential>={TARGET_OVERALL})\n",
    "GROUP BY ID\n",
    "order by potential DESC;\n",
    "\"\"\"\n",
    "\n"
   ]
  },
  {
   "cell_type": "code",
   "execution_count": 4,
   "metadata": {},
   "outputs": [
    {
     "data": {
      "text/html": [
       "<div>\n",
       "<style scoped>\n",
       "    .dataframe tbody tr th:only-of-type {\n",
       "        vertical-align: middle;\n",
       "    }\n",
       "\n",
       "    .dataframe tbody tr th {\n",
       "        vertical-align: top;\n",
       "    }\n",
       "\n",
       "    .dataframe thead th {\n",
       "        text-align: right;\n",
       "    }\n",
       "</style>\n",
       "<table border=\"1\" class=\"dataframe\">\n",
       "  <thead>\n",
       "    <tr style=\"text-align: right;\">\n",
       "      <th></th>\n",
       "      <th></th>\n",
       "      <th></th>\n",
       "      <th>potential_age</th>\n",
       "      <th>Age</th>\n",
       "      <th>Photo</th>\n",
       "      <th>Nationality</th>\n",
       "      <th>Flag</th>\n",
       "      <th>Overall</th>\n",
       "      <th>Potential</th>\n",
       "      <th>Club</th>\n",
       "      <th>Club Logo</th>\n",
       "      <th>Value</th>\n",
       "      <th>...</th>\n",
       "      <th>Composure</th>\n",
       "      <th>Defensive awareness</th>\n",
       "      <th>max_potential</th>\n",
       "      <th>prime_age</th>\n",
       "      <th>PrimeOverall</th>\n",
       "      <th>best_position</th>\n",
       "      <th>central</th>\n",
       "      <th>winger</th>\n",
       "      <th>offense</th>\n",
       "      <th>Defense</th>\n",
       "    </tr>\n",
       "    <tr>\n",
       "      <th>ID</th>\n",
       "      <th>Name</th>\n",
       "      <th>FIFA</th>\n",
       "      <th></th>\n",
       "      <th></th>\n",
       "      <th></th>\n",
       "      <th></th>\n",
       "      <th></th>\n",
       "      <th></th>\n",
       "      <th></th>\n",
       "      <th></th>\n",
       "      <th></th>\n",
       "      <th></th>\n",
       "      <th></th>\n",
       "      <th></th>\n",
       "      <th></th>\n",
       "      <th></th>\n",
       "      <th></th>\n",
       "      <th></th>\n",
       "      <th></th>\n",
       "      <th></th>\n",
       "      <th></th>\n",
       "      <th></th>\n",
       "      <th></th>\n",
       "    </tr>\n",
       "  </thead>\n",
       "  <tbody>\n",
       "    <tr>\n",
       "      <th>158023</th>\n",
       "      <th>L. Messi</th>\n",
       "      <th>2011</th>\n",
       "      <td>23.0</td>\n",
       "      <td>23.0</td>\n",
       "      <td>https://cdn.sofifa.net/players/158/023/11_60.png</td>\n",
       "      <td>Argentina</td>\n",
       "      <td>https://cdn.sofifa.net/flags/ar.png</td>\n",
       "      <td>90.0</td>\n",
       "      <td>95.0</td>\n",
       "      <td>FC Barcelona</td>\n",
       "      <td>https://cdn.sofifa.net/meta/team/83/30.png</td>\n",
       "      <td>€0</td>\n",
       "      <td>...</td>\n",
       "      <td>NaN</td>\n",
       "      <td>NaN</td>\n",
       "      <td>95.0</td>\n",
       "      <td>25.0</td>\n",
       "      <td>94.0</td>\n",
       "      <td>RW</td>\n",
       "      <td>0</td>\n",
       "      <td>1</td>\n",
       "      <td>1.0</td>\n",
       "      <td>13.0</td>\n",
       "    </tr>\n",
       "    <tr>\n",
       "      <th>20801</th>\n",
       "      <th>Cristiano Ronaldo</th>\n",
       "      <th>2011</th>\n",
       "      <td>25.0</td>\n",
       "      <td>25.0</td>\n",
       "      <td>https://cdn.sofifa.net/players/020/801/11_60.png</td>\n",
       "      <td>Portugal</td>\n",
       "      <td>https://cdn.sofifa.net/flags/pt.png</td>\n",
       "      <td>89.0</td>\n",
       "      <td>94.0</td>\n",
       "      <td>Real Madrid</td>\n",
       "      <td>https://cdn.sofifa.net/meta/team/3468/30.png</td>\n",
       "      <td>€0</td>\n",
       "      <td>...</td>\n",
       "      <td>NaN</td>\n",
       "      <td>NaN</td>\n",
       "      <td>94.0</td>\n",
       "      <td>31.0</td>\n",
       "      <td>94.0</td>\n",
       "      <td>RW</td>\n",
       "      <td>0</td>\n",
       "      <td>1</td>\n",
       "      <td>1.0</td>\n",
       "      <td>22.0</td>\n",
       "    </tr>\n",
       "    <tr>\n",
       "      <th>244778</th>\n",
       "      <th>Trincão</th>\n",
       "      <th>2021</th>\n",
       "      <td>20.0</td>\n",
       "      <td>20.0</td>\n",
       "      <td>https://cdn.sofifa.net/players/244/778/21_60.png</td>\n",
       "      <td>Portugal</td>\n",
       "      <td>https://cdn.sofifa.net/flags/pt.png</td>\n",
       "      <td>78.0</td>\n",
       "      <td>91.0</td>\n",
       "      <td>FC Barcelona</td>\n",
       "      <td>https://cdn.sofifa.net/meta/team/83/30.png</td>\n",
       "      <td>€34M</td>\n",
       "      <td>...</td>\n",
       "      <td>84.0</td>\n",
       "      <td>35.0</td>\n",
       "      <td>91.0</td>\n",
       "      <td>20.0</td>\n",
       "      <td>78.0</td>\n",
       "      <td>RW</td>\n",
       "      <td>0</td>\n",
       "      <td>1</td>\n",
       "      <td>1.0</td>\n",
       "      <td>35.0</td>\n",
       "    </tr>\n",
       "    <tr>\n",
       "      <th>183277</th>\n",
       "      <th>E. Hazard</th>\n",
       "      <th>2011</th>\n",
       "      <td>19.0</td>\n",
       "      <td>19.0</td>\n",
       "      <td>https://cdn.sofifa.net/players/183/277/11_60.png</td>\n",
       "      <td>Belgium</td>\n",
       "      <td>https://cdn.sofifa.net/flags/be.png</td>\n",
       "      <td>81.0</td>\n",
       "      <td>91.0</td>\n",
       "      <td>LOSC Lille</td>\n",
       "      <td>https://cdn.sofifa.net/meta/team/690/30.png</td>\n",
       "      <td>€0</td>\n",
       "      <td>...</td>\n",
       "      <td>NaN</td>\n",
       "      <td>NaN</td>\n",
       "      <td>91.0</td>\n",
       "      <td>27.0</td>\n",
       "      <td>91.0</td>\n",
       "      <td>RW</td>\n",
       "      <td>0</td>\n",
       "      <td>1</td>\n",
       "      <td>1.0</td>\n",
       "      <td>35.0</td>\n",
       "    </tr>\n",
       "    <tr>\n",
       "      <th>243812</th>\n",
       "      <th>Rodrygo</th>\n",
       "      <th>2021</th>\n",
       "      <td>19.0</td>\n",
       "      <td>19.0</td>\n",
       "      <td>https://cdn.sofifa.net/players/243/812/21_60.png</td>\n",
       "      <td>Brazil</td>\n",
       "      <td>https://cdn.sofifa.net/flags/br.png</td>\n",
       "      <td>79.0</td>\n",
       "      <td>90.0</td>\n",
       "      <td>Real Madrid</td>\n",
       "      <td>https://cdn.sofifa.net/meta/team/3468/30.png</td>\n",
       "      <td>€38M</td>\n",
       "      <td>...</td>\n",
       "      <td>82.0</td>\n",
       "      <td>25.0</td>\n",
       "      <td>90.0</td>\n",
       "      <td>21.0</td>\n",
       "      <td>81.0</td>\n",
       "      <td>RW</td>\n",
       "      <td>0</td>\n",
       "      <td>1</td>\n",
       "      <td>1.0</td>\n",
       "      <td>25.0</td>\n",
       "    </tr>\n",
       "  </tbody>\n",
       "</table>\n",
       "<p>5 rows × 58 columns</p>\n",
       "</div>"
      ],
      "text/plain": [
       "                               potential_age   Age  \\\n",
       "ID     Name              FIFA                        \n",
       "158023 L. Messi          2011           23.0  23.0   \n",
       "20801  Cristiano Ronaldo 2011           25.0  25.0   \n",
       "244778 Trincão           2021           20.0  20.0   \n",
       "183277 E. Hazard         2011           19.0  19.0   \n",
       "243812 Rodrygo           2021           19.0  19.0   \n",
       "\n",
       "                                                                          Photo  \\\n",
       "ID     Name              FIFA                                                     \n",
       "158023 L. Messi          2011  https://cdn.sofifa.net/players/158/023/11_60.png   \n",
       "20801  Cristiano Ronaldo 2011  https://cdn.sofifa.net/players/020/801/11_60.png   \n",
       "244778 Trincão           2021  https://cdn.sofifa.net/players/244/778/21_60.png   \n",
       "183277 E. Hazard         2011  https://cdn.sofifa.net/players/183/277/11_60.png   \n",
       "243812 Rodrygo           2021  https://cdn.sofifa.net/players/243/812/21_60.png   \n",
       "\n",
       "                              Nationality  \\\n",
       "ID     Name              FIFA               \n",
       "158023 L. Messi          2011   Argentina   \n",
       "20801  Cristiano Ronaldo 2011    Portugal   \n",
       "244778 Trincão           2021    Portugal   \n",
       "183277 E. Hazard         2011     Belgium   \n",
       "243812 Rodrygo           2021      Brazil   \n",
       "\n",
       "                                                              Flag  Overall  \\\n",
       "ID     Name              FIFA                                                 \n",
       "158023 L. Messi          2011  https://cdn.sofifa.net/flags/ar.png     90.0   \n",
       "20801  Cristiano Ronaldo 2011  https://cdn.sofifa.net/flags/pt.png     89.0   \n",
       "244778 Trincão           2021  https://cdn.sofifa.net/flags/pt.png     78.0   \n",
       "183277 E. Hazard         2011  https://cdn.sofifa.net/flags/be.png     81.0   \n",
       "243812 Rodrygo           2021  https://cdn.sofifa.net/flags/br.png     79.0   \n",
       "\n",
       "                               Potential          Club  \\\n",
       "ID     Name              FIFA                            \n",
       "158023 L. Messi          2011       95.0  FC Barcelona   \n",
       "20801  Cristiano Ronaldo 2011       94.0   Real Madrid   \n",
       "244778 Trincão           2021       91.0  FC Barcelona   \n",
       "183277 E. Hazard         2011       91.0    LOSC Lille   \n",
       "243812 Rodrygo           2021       90.0   Real Madrid   \n",
       "\n",
       "                                                                  Club Logo  \\\n",
       "ID     Name              FIFA                                                 \n",
       "158023 L. Messi          2011    https://cdn.sofifa.net/meta/team/83/30.png   \n",
       "20801  Cristiano Ronaldo 2011  https://cdn.sofifa.net/meta/team/3468/30.png   \n",
       "244778 Trincão           2021    https://cdn.sofifa.net/meta/team/83/30.png   \n",
       "183277 E. Hazard         2011   https://cdn.sofifa.net/meta/team/690/30.png   \n",
       "243812 Rodrygo           2021  https://cdn.sofifa.net/meta/team/3468/30.png   \n",
       "\n",
       "                              Value  ... Composure  Defensive awareness  \\\n",
       "ID     Name              FIFA        ...                                  \n",
       "158023 L. Messi          2011    €0  ...       NaN                  NaN   \n",
       "20801  Cristiano Ronaldo 2011    €0  ...       NaN                  NaN   \n",
       "244778 Trincão           2021  €34M  ...      84.0                 35.0   \n",
       "183277 E. Hazard         2011    €0  ...       NaN                  NaN   \n",
       "243812 Rodrygo           2021  €38M  ...      82.0                 25.0   \n",
       "\n",
       "                              max_potential  prime_age  PrimeOverall  \\\n",
       "ID     Name              FIFA                                          \n",
       "158023 L. Messi          2011          95.0       25.0          94.0   \n",
       "20801  Cristiano Ronaldo 2011          94.0       31.0          94.0   \n",
       "244778 Trincão           2021          91.0       20.0          78.0   \n",
       "183277 E. Hazard         2011          91.0       27.0          91.0   \n",
       "243812 Rodrygo           2021          90.0       21.0          81.0   \n",
       "\n",
       "                               best_position  central  winger  offense  \\\n",
       "ID     Name              FIFA                                            \n",
       "158023 L. Messi          2011             RW        0       1      1.0   \n",
       "20801  Cristiano Ronaldo 2011             RW        0       1      1.0   \n",
       "244778 Trincão           2021             RW        0       1      1.0   \n",
       "183277 E. Hazard         2011             RW        0       1      1.0   \n",
       "243812 Rodrygo           2021             RW        0       1      1.0   \n",
       "\n",
       "                               Defense  \n",
       "ID     Name              FIFA           \n",
       "158023 L. Messi          2011     13.0  \n",
       "20801  Cristiano Ronaldo 2011     22.0  \n",
       "244778 Trincão           2021     35.0  \n",
       "183277 E. Hazard         2011     35.0  \n",
       "243812 Rodrygo           2021     25.0  \n",
       "\n",
       "[5 rows x 58 columns]"
      ]
     },
     "execution_count": 4,
     "metadata": {},
     "output_type": "execute_result"
    }
   ],
   "source": [
    "\n",
    "\n",
    "# Step 1: Establish a database connection\n",
    "conn = sqlite3.connect(CONFIG.DATABASE)\n",
    "\n",
    "df_potentials = pd.read_sql_query(sql_potentials, conn)\n",
    "df_prime = pd.read_sql_query(sql_prime, conn)\n",
    "\n",
    "conn.close()\n",
    "\n",
    "df_potentials = df_potentials.set_index(['ID'])\n",
    "df_prime = df_prime.set_index(['ID'])\n",
    "\n",
    "df_raw = df_potentials.join(df_prime[[\"prime_age\",\"PrimeOverall\"]])\n",
    "df_raw = df_raw.reset_index(['ID'])\n",
    "df_raw = add_features_raw(df_raw)\n",
    "\n",
    "df_raw.head()\n"
   ]
  },
  {
   "cell_type": "markdown",
   "metadata": {},
   "source": [
    "# "
   ]
  },
  {
   "cell_type": "code",
   "execution_count": 5,
   "metadata": {},
   "outputs": [],
   "source": [
    "# df_raw[\"Potential\"] = df_raw.Potential.astype('float')\n",
    "# df_raw[\"max_potential\"] = df_raw.max_potential.astype('float')"
   ]
  },
  {
   "cell_type": "code",
   "execution_count": 6,
   "metadata": {},
   "outputs": [],
   "source": [
    "df = df_raw.copy()\n",
    "\n",
    "year_to_category = {2011: 'drop', 2012: 'train', 2013: 'train', 2014: 'train', 2015: 'train', 2016: 'train', 2017: 'train', 2018: 'train', 2019: 'train', 2020: 'test', 2021: 'test', 2022: 'valid', 2023: 'valid', 2024: 'valid'}\n",
    "df['set'] = df.index.get_level_values('FIFA').values\n",
    "# Apply the mapping to the \"FIFA\" column\n",
    "df['set'] = df['set'].map(year_to_category)\n",
    "\n",
    "df_potentials = df[(df.set==\"valid\")&(df.Age<26)&(df.Potential>=TARGET_OVERALL)]"
   ]
  },
  {
   "cell_type": "code",
   "execution_count": 7,
   "metadata": {},
   "outputs": [
    {
     "name": "stdout",
     "output_type": "stream",
     "text": [
      "target\n",
      "78.0    30\n",
      "75.0    28\n",
      "77.0    23\n",
      "74.0    21\n",
      "76.0    20\n",
      "73.0    20\n",
      "72.0    16\n",
      "70.0    14\n",
      "69.0    13\n",
      "81.0    12\n",
      "84.0    12\n",
      "79.0    11\n",
      "71.0    11\n",
      "80.0    11\n",
      "68.0    10\n",
      "83.0     9\n",
      "82.0     9\n",
      "64.0     9\n",
      "67.0     8\n",
      "66.0     5\n",
      "65.0     3\n",
      "88.0     3\n",
      "89.0     3\n",
      "87.0     3\n",
      "86.0     2\n",
      "63.0     2\n",
      "85.0     1\n",
      "91.0     1\n",
      "92.0     1\n",
      "90.0     1\n",
      "62.0     1\n",
      "57.0     1\n",
      "Name: count, dtype: int64\n"
     ]
    }
   ],
   "source": [
    "df = df[(df.central == 1)&(df.offense == 1)]\n",
    "\n",
    "# Training nur auf High Potentials\n",
    "df = df[df.max_potential>TARGET_OVERALL]\n",
    "\n",
    "# nur Entwicklugnsfähige Spieler\n",
    "df = df[df.prime_age>df.potential_age]\n",
    "df = df[df.PrimeOverall>df.Overall]\n",
    "df['target'] = df.PrimeOverall\n",
    "df = df[df.potential_age<23]\n",
    "\n",
    "print(df.target.value_counts())\n",
    "PREDICTION_NAME = \"Offense\"\n",
    "\n",
    "df_processed = df.copy()"
   ]
  },
  {
   "cell_type": "code",
   "execution_count": 8,
   "metadata": {},
   "outputs": [
    {
     "data": {
      "text/html": [
       "<div>\n",
       "<style scoped>\n",
       "    .dataframe tbody tr th:only-of-type {\n",
       "        vertical-align: middle;\n",
       "    }\n",
       "\n",
       "    .dataframe tbody tr th {\n",
       "        vertical-align: top;\n",
       "    }\n",
       "\n",
       "    .dataframe thead th {\n",
       "        text-align: right;\n",
       "    }\n",
       "</style>\n",
       "<table border=\"1\" class=\"dataframe\">\n",
       "  <thead>\n",
       "    <tr style=\"text-align: right;\">\n",
       "      <th></th>\n",
       "      <th></th>\n",
       "      <th></th>\n",
       "      <th>potential_age</th>\n",
       "      <th>Age</th>\n",
       "      <th>prime_age</th>\n",
       "      <th>max_potential</th>\n",
       "      <th>Potential</th>\n",
       "      <th>Overall</th>\n",
       "      <th>PrimeOverall</th>\n",
       "      <th>target</th>\n",
       "      <th>set</th>\n",
       "      <th>best_position</th>\n",
       "    </tr>\n",
       "    <tr>\n",
       "      <th>ID</th>\n",
       "      <th>Name</th>\n",
       "      <th>FIFA</th>\n",
       "      <th></th>\n",
       "      <th></th>\n",
       "      <th></th>\n",
       "      <th></th>\n",
       "      <th></th>\n",
       "      <th></th>\n",
       "      <th></th>\n",
       "      <th></th>\n",
       "      <th></th>\n",
       "      <th></th>\n",
       "    </tr>\n",
       "  </thead>\n",
       "  <tbody>\n",
       "    <tr>\n",
       "      <th>186405</th>\n",
       "      <th>F. di Santo</th>\n",
       "      <th>2011</th>\n",
       "      <td>21.0</td>\n",
       "      <td>21.0</td>\n",
       "      <td>27.0</td>\n",
       "      <td>90.0</td>\n",
       "      <td>90.0</td>\n",
       "      <td>74.0</td>\n",
       "      <td>77.0</td>\n",
       "      <td>77.0</td>\n",
       "      <td>drop</td>\n",
       "      <td>ST</td>\n",
       "    </tr>\n",
       "    <tr>\n",
       "      <th>199266</th>\n",
       "      <th>Ji Dong Won</th>\n",
       "      <th>2011</th>\n",
       "      <td>19.0</td>\n",
       "      <td>19.0</td>\n",
       "      <td>22.0</td>\n",
       "      <td>89.0</td>\n",
       "      <td>89.0</td>\n",
       "      <td>66.0</td>\n",
       "      <td>72.0</td>\n",
       "      <td>72.0</td>\n",
       "      <td>drop</td>\n",
       "      <td>ST</td>\n",
       "    </tr>\n",
       "    <tr>\n",
       "      <th>253002</th>\n",
       "      <th>G. Raspadori</th>\n",
       "      <th>2022</th>\n",
       "      <td>21.0</td>\n",
       "      <td>21.0</td>\n",
       "      <td>22.0</td>\n",
       "      <td>88.0</td>\n",
       "      <td>88.0</td>\n",
       "      <td>74.0</td>\n",
       "      <td>79.0</td>\n",
       "      <td>79.0</td>\n",
       "      <td>valid</td>\n",
       "      <td>ST</td>\n",
       "    </tr>\n",
       "    <tr>\n",
       "      <th>240833</th>\n",
       "      <th>Y. Moukoko</th>\n",
       "      <th>2023</th>\n",
       "      <td>17.0</td>\n",
       "      <td>17.0</td>\n",
       "      <td>18.0</td>\n",
       "      <td>88.0</td>\n",
       "      <td>88.0</td>\n",
       "      <td>69.0</td>\n",
       "      <td>77.0</td>\n",
       "      <td>77.0</td>\n",
       "      <td>valid</td>\n",
       "      <td>ST</td>\n",
       "    </tr>\n",
       "    <tr>\n",
       "      <th>231677</th>\n",
       "      <th>M. Rashford</th>\n",
       "      <th>2017</th>\n",
       "      <td>18.0</td>\n",
       "      <td>18.0</td>\n",
       "      <td>25.0</td>\n",
       "      <td>88.0</td>\n",
       "      <td>88.0</td>\n",
       "      <td>76.0</td>\n",
       "      <td>84.0</td>\n",
       "      <td>84.0</td>\n",
       "      <td>train</td>\n",
       "      <td>ST</td>\n",
       "    </tr>\n",
       "  </tbody>\n",
       "</table>\n",
       "</div>"
      ],
      "text/plain": [
       "                          potential_age   Age  prime_age  max_potential  \\\n",
       "ID     Name         FIFA                                                  \n",
       "186405 F. di Santo  2011           21.0  21.0       27.0           90.0   \n",
       "199266 Ji Dong Won  2011           19.0  19.0       22.0           89.0   \n",
       "253002 G. Raspadori 2022           21.0  21.0       22.0           88.0   \n",
       "240833 Y. Moukoko   2023           17.0  17.0       18.0           88.0   \n",
       "231677 M. Rashford  2017           18.0  18.0       25.0           88.0   \n",
       "\n",
       "                          Potential  Overall  PrimeOverall  target    set  \\\n",
       "ID     Name         FIFA                                                    \n",
       "186405 F. di Santo  2011       90.0     74.0          77.0    77.0   drop   \n",
       "199266 Ji Dong Won  2011       89.0     66.0          72.0    72.0   drop   \n",
       "253002 G. Raspadori 2022       88.0     74.0          79.0    79.0  valid   \n",
       "240833 Y. Moukoko   2023       88.0     69.0          77.0    77.0  valid   \n",
       "231677 M. Rashford  2017       88.0     76.0          84.0    84.0  train   \n",
       "\n",
       "                         best_position  \n",
       "ID     Name         FIFA                \n",
       "186405 F. di Santo  2011            ST  \n",
       "199266 Ji Dong Won  2011            ST  \n",
       "253002 G. Raspadori 2022            ST  \n",
       "240833 Y. Moukoko   2023            ST  \n",
       "231677 M. Rashford  2017            ST  "
      ]
     },
     "execution_count": 8,
     "metadata": {},
     "output_type": "execute_result"
    }
   ],
   "source": [
    "df[[\"potential_age\",\"Age\",\"prime_age\",\"max_potential\",\"Potential\",\"Overall\",\"PrimeOverall\",\"target\",\"set\",\"best_position\"]].head()"
   ]
  },
  {
   "cell_type": "code",
   "execution_count": 9,
   "metadata": {},
   "outputs": [],
   "source": [
    "# if True:\n",
    "#     df = df[[any(pos in i for pos in ['CF', 'LW', 'ST', 'RW']) for i in df['Position']]]\n",
    "#     df.shape\n",
    "# else:\n",
    "#     select_position = lambda x: x in [\"ST\",\"CF\",\"LW\",\"RW\"]\n",
    "#     df[\"select\"] = df['Position'].apply(select_position)\n",
    "#     df = df[df[\"select\"]]\n",
    "#     df.shape"
   ]
  },
  {
   "cell_type": "markdown",
   "metadata": {},
   "source": [
    "###  Feature Engineering"
   ]
  },
  {
   "cell_type": "code",
   "execution_count": 10,
   "metadata": {},
   "outputs": [
    {
     "data": {
      "text/plain": [
       "Index(['Club', 'Marking', 'Att. Position', 'Composure', 'Defensive awareness'], dtype='object')"
      ]
     },
     "execution_count": 10,
     "metadata": {},
     "output_type": "execute_result"
    }
   ],
   "source": [
    "df_processed.columns[df_processed.isna().sum()>0]"
   ]
  },
  {
   "cell_type": "markdown",
   "metadata": {},
   "source": [
    "#### Transform Value"
   ]
  },
  {
   "cell_type": "code",
   "execution_count": 11,
   "metadata": {},
   "outputs": [],
   "source": [
    "df_processed = df_processed.fillna(0)\n",
    "df_potentials = df_potentials.fillna(0)"
   ]
  },
  {
   "cell_type": "code",
   "execution_count": 12,
   "metadata": {},
   "outputs": [
    {
     "data": {
      "text/plain": [
       "<Axes: >"
      ]
     },
     "execution_count": 12,
     "metadata": {},
     "output_type": "execute_result"
    },
    {
     "data": {
      "image/png": "[encoded data removed]",
      "text/plain": [
       "<Figure size 640x480 with 1 Axes>"
      ]
     },
     "metadata": {},
     "output_type": "display_data"
    }
   ],
   "source": [
    "df['target'].hist()"
   ]
  },
  {
   "cell_type": "code",
   "execution_count": 13,
   "metadata": {},
   "outputs": [],
   "source": [
    "X = df_processed.drop(\"target\", axis=1, errors='ignore')\n",
    "y = df['target']  # Use df_processed here instead of df\n",
    "# Split the data into training and testing sets"
   ]
  },
  {
   "cell_type": "code",
   "execution_count": 14,
   "metadata": {},
   "outputs": [
    {
     "data": {
      "text/plain": [
       "Index(['potential_age', 'Age', 'Photo', 'Nationality', 'Flag', 'Overall',\n",
       "       'Potential', 'Club', 'Club Logo', 'Value', 'Wage', 'Special',\n",
       "       'Position', 'Unnamed: 0', 'Crossing', 'Finishing', 'HeadingAccuracy',\n",
       "       'ShortPassing', 'Volleys', 'Dribbling', 'Curve', 'FKAccuracy',\n",
       "       'LongPassing', 'BallControl', 'Acceleration', 'SprintSpeed', 'Agility',\n",
       "       'Reactions', 'Balance', 'ShotPower', 'Jumping', 'Stamina', 'Strength',\n",
       "       'LongShots', 'Aggression', 'Interceptions', 'Positioning', 'Vision',\n",
       "       'Penalties', 'Marking', 'StandingTackle', 'SlidingTackle', 'GKDiving',\n",
       "       'GKHandling', 'GKKicking', 'GKPositioning', 'GKReflexes',\n",
       "       'Att. Position', 'Composure', 'Defensive awareness', 'max_potential',\n",
       "       'prime_age', 'PrimeOverall', 'best_position', 'central', 'winger',\n",
       "       'offense', 'Defense', 'set', 'target'],\n",
       "      dtype='object')"
      ]
     },
     "execution_count": 14,
     "metadata": {},
     "output_type": "execute_result"
    }
   ],
   "source": [
    "df_processed.columns"
   ]
  },
  {
   "cell_type": "code",
   "execution_count": 15,
   "metadata": {},
   "outputs": [],
   "source": [
    "if False:\n",
    "    # Step 1: Split the data into training and testing sets\n",
    "    X_train, X_test, y_train, y_test = train_test_split(X, y, test_size=0.2, random_state=42)\n",
    "\n",
    "    X_train = X_train[PLAYER_ATTRIBUTES]\n",
    "    X_test = X_test[PLAYER_ATTRIBUTES]\n",
    "\n",
    "else:\n",
    "\n",
    "    X_train = X[X.set==\"train\"][PLAYER_ATTRIBUTES]\n",
    "    y_train = y[X.set==\"train\"]\n",
    "\n",
    "    X_test = X[X.set==\"test\"][PLAYER_ATTRIBUTES]\n",
    "    y_test = y[X.set==\"test\"]\n"
   ]
  },
  {
   "cell_type": "code",
   "execution_count": 16,
   "metadata": {},
   "outputs": [
    {
     "data": {
      "text/plain": [
       "count    149.000000\n",
       "mean      75.993289\n",
       "std        5.342963\n",
       "min       57.000000\n",
       "25%       73.000000\n",
       "50%       76.000000\n",
       "75%       79.000000\n",
       "max       89.000000\n",
       "Name: target, dtype: float64"
      ]
     },
     "execution_count": 16,
     "metadata": {},
     "output_type": "execute_result"
    }
   ],
   "source": [
    "y_train.describe()"
   ]
  },
  {
   "cell_type": "code",
   "execution_count": 17,
   "metadata": {},
   "outputs": [],
   "source": [
    "\n",
    "\n",
    "# Ignore all warnings\n",
    "warnings.filterwarnings(\"ignore\")\n",
    "# Load your dataset or replace df_processed and df with your data\n",
    "# df_processed = pd.read_csv('your_dataset.csv')\n",
    "\n",
    "\n",
    "# Step 2: Initialize a StandardScaler\n",
    "scaler = StandardScaler()\n",
    "\n",
    "# Step 3: Fit the scaler on the training data and transform both training \n",
    "# and testing data\n",
    "X_train_scaled = scaler.fit_transform(X_train)\n",
    "X_test_scaled = scaler.transform(X_test)\n",
    "\n",
    "df_potentials_scaled = scaler.transform(df_potentials[PLAYER_ATTRIBUTES].fillna(0))\n",
    "\n",
    "# Step 4: Create new DataFrames with the scaled data while preserving the index and columns\n",
    "X_train_scaled_df = pd.DataFrame(X_train_scaled, index=X_train.index, columns=PLAYER_ATTRIBUTES)\n",
    "X_test_scaled_df = pd.DataFrame(X_test_scaled, index=X_test.index, columns=PLAYER_ATTRIBUTES)\n",
    "df_potentials_scaled_df = pd.DataFrame(df_potentials_scaled, index=df_potentials.index, columns=PLAYER_ATTRIBUTES)"
   ]
  },
  {
   "cell_type": "markdown",
   "metadata": {},
   "source": [
    "# Hyperparametertuning"
   ]
  },
  {
   "cell_type": "code",
   "execution_count": 18,
   "metadata": {},
   "outputs": [],
   "source": [
    "import optuna\n",
    "from sklearn.ensemble import RandomForestRegressor\n",
    "from sklearn.metrics import mean_squared_error\n",
    "from sklearn.model_selection import cross_val_score\n",
    "\n",
    "if HYPERTRAINING:\n",
    "    def objective(trial):\n",
    "        # Define hyperparameters to optimize\n",
    "        params = {\n",
    "            'n_estimators': trial.suggest_int('n_estimators', 100, 500),\n",
    "            'max_depth': trial.suggest_int('max_depth', 1, 8),\n",
    "            'min_samples_split': trial.suggest_float('min_samples_split', 0.1, 1.0),\n",
    "            'min_samples_leaf': trial.suggest_float('min_samples_leaf', 0.1, 0.5),\n",
    "            'max_features': trial.suggest_float('max_features', 0.2, 1.0),\n",
    "            'random_state': 42\n",
    "        }\n",
    "\n",
    "        # Implement cross-validation\n",
    "        cv_scores = cross_val_score(RandomForestRegressor(**params), X_train_scaled_df, y_train, cv=CV, scoring=SCORING)\n",
    "        mean_mse = cv_scores.mean()  # Note the negative sign for mean_squared_error\n",
    "\n",
    "        return mean_mse\n",
    "\n",
    "    # Create an Optuna study for minimizing Mean Squared Error\n",
    "    study = optuna.create_study(direction=DIRECTION)\n",
    "    study.optimize(objective, n_trials=TRIALS)  # You can increase n_trials for more optimization\n",
    "\n",
    "    PARAMS_RF = study.best_params\n",
    "    best_mse = study.best_value  # Note the negative sign for mean_squared_error\n",
    "\n",
    "    print(\"Best hyperparameters:\", PARAMS_RF)\n",
    "    print(f\"Best Mean {SCORING}:\", best_mse)\n",
    "else:\n",
    "    PARAMS_RF = {}\n"
   ]
  },
  {
   "cell_type": "code",
   "execution_count": 19,
   "metadata": {},
   "outputs": [],
   "source": [
    "import optuna\n",
    "from sklearn.ensemble import GradientBoostingRegressor\n",
    "from sklearn.metrics import mean_squared_error\n",
    "from sklearn.model_selection import cross_val_score, KFold\n",
    "\n",
    "if HYPERTRAINING:\n",
    "    def objective(trial):\n",
    "        # Define hyperparameters to optimize\n",
    "        params = {\n",
    "            'n_estimators': trial.suggest_int('n_estimators', 100, 500),\n",
    "            'max_depth': trial.suggest_int('max_depth', 1, 8),\n",
    "            'min_samples_split': trial.suggest_float('min_samples_split', 0.1, 1.0),\n",
    "            'min_samples_leaf': trial.suggest_float('min_samples_leaf', 0.1, 0.5),\n",
    "            'max_features': trial.suggest_float('max_features', 0.6, 1.0),\n",
    "            'random_state': 42\n",
    "        }\n",
    "\n",
    "        # Implement cross-validation\n",
    "        cv_scores = cross_val_score(GradientBoostingRegressor(**params), X_train_scaled_df, y_train, cv=CV, scoring=SCORING)\n",
    "        mean_mse = cv_scores.mean()  # Note the negative sign for mean_squared_error\n",
    "\n",
    "        return mean_mse\n",
    "\n",
    "    # Create an Optuna study for minimizing Mean Squared Error\n",
    "    study = optuna.create_study(direction=DIRECTION)\n",
    "    study.optimize(objective, n_trials=TRIALS)  # You can increase n_trials for more optimization\n",
    "\n",
    "    PARAMS_GB = study.best_params\n",
    "    best_mse = study.best_value  # Note the negative sign for mean_squared_error\n",
    "\n",
    "    print(\"Best hyperparameters:\", PARAMS_GB)\n",
    "    print(f\"Best Mean {SCORING}:\", best_mse)\n",
    "else:\n",
    "    PARAMS_GB = {}\n"
   ]
  },
  {
   "cell_type": "code",
   "execution_count": 20,
   "metadata": {},
   "outputs": [],
   "source": [
    "import optuna\n",
    "from sklearn.linear_model import Ridge\n",
    "from sklearn.metrics import mean_squared_error\n",
    "from sklearn.model_selection import cross_val_score, KFold\n",
    "\n",
    "if HYPERTRAINING:\n",
    "    def objective(trial):\n",
    "        # Define hyperparameters to optimize\n",
    "        params = {\n",
    "            'alpha': trial.suggest_float('alpha', 0.01, 10.0),\n",
    "            'fit_intercept': trial.suggest_categorical('fit_intercept', [True, False]),\n",
    "        }\n",
    "\n",
    "        # Implement cross-validation\n",
    "        cv_scores = cross_val_score(Ridge(**params), X_train_scaled_df, y_train, cv=CV, scoring=SCORING)\n",
    "        mean_mse = cv_scores.mean()  # Note the negative sign for mean_squared_error\n",
    "\n",
    "        return mean_mse\n",
    "\n",
    "    # Create an Optuna study for minimizing Mean Squared Error\n",
    "    study = optuna.create_study(direction=DIRECTION)\n",
    "    study.optimize(objective, n_trials=TRIALS)  # You can increase n_trials for more optimization\n",
    "\n",
    "    PARAMS_RIDGE = study.best_params\n",
    "    best_mse = study.best_value  # Note the negative sign for mean_squared_error\n",
    "\n",
    "    print(\"Best hyperparameters:\", PARAMS_RIDGE)\n",
    "    print(f\"Best Mean {SCORING}:\", best_mse)\n",
    "else:\n",
    "    PARAMS_RIDGE = {}\n"
   ]
  },
  {
   "cell_type": "markdown",
   "metadata": {},
   "source": [
    "# TODOS\n",
    "- SHAP Values for Regression Models -> DONE\n",
    "- SCV and Logistic Regression -> nope\n",
    "- Hyperparameter Tuning -> nope\n",
    "- classification model einbauen -> DONE\n",
    "- Make Usable in Deployment  -> DONE\n",
    "- Finishing + FKAccuaracy -> Shooting\n",
    "- Blog umschreiben\n",
    "- Video machen :)"
   ]
  },
  {
   "cell_type": "code",
   "execution_count": 21,
   "metadata": {},
   "outputs": [
    {
     "name": "stdout",
     "output_type": "stream",
     "text": [
      "Ridge Regression training----->\n"
     ]
    },
    {
     "data": {
      "image/png": "[encoded data removed]",
      "text/plain": [
       "<Figure size 1000x800 with 1 Axes>"
      ]
     },
     "metadata": {},
     "output_type": "display_data"
    },
    {
     "name": "stderr",
     "output_type": "stream",
     "text": [
      "100%|██████████| 30/30 [00:01<00:00, 18.90it/s]\n"
     ]
    },
    {
     "data": {
      "image/png": "[encoded data removed]",
      "text/plain": [
       "<Figure size 800x390 with 2 Axes>"
      ]
     },
     "metadata": {},
     "output_type": "display_data"
    },
    {
     "name": "stdout",
     "output_type": "stream",
     "text": [
      "              precision    recall  f1-score   support\n",
      "\n",
      "       False       0.93      0.93      0.93        55\n",
      "        True       0.20      0.20      0.20         5\n",
      "\n",
      "    accuracy                           0.87        60\n",
      "   macro avg       0.56      0.56      0.56        60\n",
      "weighted avg       0.87      0.87      0.87        60\n",
      "\n",
      "Huber Regression training----->\n"
     ]
    },
    {
     "data": {
      "image/png": "[encoded data removed]",
      "text/plain": [
       "<Figure size 1000x800 with 1 Axes>"
      ]
     },
     "metadata": {},
     "output_type": "display_data"
    },
    {
     "name": "stderr",
     "output_type": "stream",
     "text": [
      "100%|██████████| 30/30 [00:01<00:00, 16.07it/s]\n"
     ]
    },
    {
     "data": {
      "image/png": "[encoded data removed]",
      "text/plain": [
       "<Figure size 800x390 with 2 Axes>"
      ]
     },
     "metadata": {},
     "output_type": "display_data"
    },
    {
     "name": "stdout",
     "output_type": "stream",
     "text": [
      "              precision    recall  f1-score   support\n",
      "\n",
      "       False       0.93      0.93      0.93        55\n",
      "        True       0.20      0.20      0.20         5\n",
      "\n",
      "    accuracy                           0.87        60\n",
      "   macro avg       0.56      0.56      0.56        60\n",
      "weighted avg       0.87      0.87      0.87        60\n",
      "\n",
      "Linear Regression training----->\n"
     ]
    },
    {
     "data": {
      "image/png": "[encoded data removed]",
      "text/plain": [
       "<Figure size 1000x800 with 1 Axes>"
      ]
     },
     "metadata": {},
     "output_type": "display_data"
    },
    {
     "name": "stderr",
     "output_type": "stream",
     "text": [
      "100%|██████████| 30/30 [00:02<00:00, 13.52it/s]\n"
     ]
    },
    {
     "data": {
      "image/png": "[encoded data removed]",
      "text/plain": [
       "<Figure size 800x390 with 2 Axes>"
      ]
     },
     "metadata": {},
     "output_type": "display_data"
    },
    {
     "name": "stdout",
     "output_type": "stream",
     "text": [
      "              precision    recall  f1-score   support\n",
      "\n",
      "       False       0.93      0.93      0.93        55\n",
      "        True       0.20      0.20      0.20         5\n",
      "\n",
      "    accuracy                           0.87        60\n",
      "   macro avg       0.56      0.56      0.56        60\n",
      "weighted avg       0.87      0.87      0.87        60\n",
      "\n",
      "Model: Ridge Regression\n",
      "Mean Squared Error: 17.18\n",
      "Mean Absolute Error: 3.48\n",
      "R2 Score: 0.41\n",
      "\n",
      "Model: Huber Regression\n",
      "Mean Squared Error: 17.87\n",
      "Mean Absolute Error: 3.44\n",
      "R2 Score: 0.39\n",
      "\n",
      "Model: Linear Regression\n",
      "Mean Squared Error: 17.16\n",
      "Mean Absolute Error: 3.48\n",
      "R2 Score: 0.41\n",
      "\n"
     ]
    }
   ],
   "source": [
    "\n",
    "\n",
    "\n",
    "regression_models = {\n",
    "    'Ridge Regression': Ridge(**PARAMS_RIDGE),\n",
    "    'Huber Regression':HuberRegressor(),\n",
    "    # 'AdaBoost Regressor': AdaBoostRegressor(random_state=42),\n",
    "\n",
    "    # 'Lasso Regression': Lasso(),\n",
    "    # 'ElasticNet Regression': ElasticNet(),\n",
    "    'Linear Regression': LinearRegression(),\n",
    "    # 'Random Forest Regressor': RandomForestRegressor(**PARAMS_RF,random_state=42),\n",
    "    # 'Gradient Boosting Regressor': GradientBoostingRegressor(**PARAMS_GB,random_state=42),\n",
    "    # 'XGBoost Regressor': xgb.XGBRegressor(random_state=42),\n",
    "    # 'LightGBM Regressor': lgb.LGBMRegressor(random_state=42)\n",
    "    # Add more models as needed\n",
    "}\n",
    "\n",
    "\n",
    "regression_results = {}\n",
    "\n",
    "# Set the experiment name\n",
    "\n",
    "# Start MLflow run with a specific run name and description\n",
    "for model_name, model in regression_models.items():\n",
    "\n",
    "    # Get the current timestamp\n",
    "    timestamp = datetime.now().strftime(\"%Y%m%d%H%M%S\")\n",
    "    with mlflow.start_run(run_name=f\"{model_name}_{timestamp}\"):\n",
    "\n",
    "        print(model_name, \"training----->\")\n",
    "\n",
    "        # Log parameters\n",
    "        mlflow.log_param(\"Model_Name\", model_name)\n",
    "        mlflow.log_params(model.get_params())\n",
    "\n",
    "        features = select_features(method=AUTO_FEATURE_SELECT,X=X_train_scaled_df,y=y_train,model=model)\n",
    "        \n",
    "        model.fit(X_train_scaled_df[features], y_train)\n",
    "        y_pred = model.predict(X_test_scaled_df[features])\n",
    "        \n",
    "        # Log Params\n",
    "        log_feature_list_as_artifact(PLAYER_ATTRIBUTES, filename=\"feature_list.txt\")\n",
    "\n",
    "        # Create a dictionary with parameters and their values\n",
    "        params_to_log = {\n",
    "            'HYPERTRAINING': HYPERTRAINING,\n",
    "            'CV': CV,\n",
    "            'SCORING': SCORING,\n",
    "            'features_anzahl': len(features),\n",
    "            'TARGET_OVERALL': TARGET_OVERALL\n",
    "        }\n",
    "\n",
    "        # Log parameters using log_params\n",
    "        mlflow.log_params(params_to_log)\n",
    "\n",
    "        # Log artifacts\n",
    "        mlflow.sklearn.log_model(model, model_name)\n",
    "\n",
    "        # Evaluation Metrics\n",
    "        log_metrics_in_mlflow_regression(y_test=y_test, y_pred=y_pred,X = X_test_scaled_df[features])\n",
    "        log_metrics_in_mlflow(y_test=y_test>TARGET_OVERALL,y_prob=None,y_pred=y_pred>TARGET_OVERALL)\n",
    "\n",
    "        # Evaluation Plots (Note: Regression models may not have ROC curves, so adapt this as needed)\n",
    "        plot_feature_importance(model, '', top_n=20)\n",
    "        explainer = plot_shap_summary(model=model,df=X_test_scaled_df[features],K = 30)\n",
    "\n",
    "        # Output for quick evaluation\n",
    "        mse = mean_squared_error(y_test, y_pred)\n",
    "        mae = mean_absolute_error(y_test, y_pred)\n",
    "        r2 = r2_score(y_test, y_pred)\n",
    "        \n",
    "\n",
    "        report = classification_report(y_test>TARGET_OVERALL, y_pred>TARGET_OVERALL)\n",
    "        print(report)\n",
    "\n",
    "     \n",
    "        regression_results[model_name] = {\n",
    "            'Model': model,\n",
    "            'Scaler': scaler,\n",
    "            'explainer':explainer,\n",
    "            'attributes': features,\n",
    "            'Classification Report': report,\n",
    "            'Mean Squared Error': mse,\n",
    "            'Mean Absolute Error': mae,\n",
    "            'R2 Score': r2\n",
    "        }\n",
    "\n",
    "# Evaluate and print results for each model\n",
    "for model_name, results in regression_results.items():\n",
    "    print(f\"Model: {model_name}\")\n",
    "    print(f\"Mean Squared Error: {results['Mean Squared Error']:.2f}\")\n",
    "    print(f\"Mean Absolute Error: {results['Mean Absolute Error']:.2f}\")\n",
    "    print(f\"R2 Score: {results['R2 Score']:.2f}\")\n",
    "    print()\n",
    "\n",
    "\n"
   ]
  },
  {
   "cell_type": "code",
   "execution_count": 22,
   "metadata": {},
   "outputs": [],
   "source": [
    "\n",
    "if SAVE_MODEL_NAME!=\"\":\n",
    "    save_dict_as_pickle(data_dict = regression_results, file_path=f\"{CONFIG.MODELS}/{SAVE_MODEL_NAME}.pkl\")"
   ]
  },
  {
   "cell_type": "markdown",
   "metadata": {},
   "source": [
    "# evaluate Model"
   ]
  },
  {
   "cell_type": "code",
   "execution_count": 23,
   "metadata": {},
   "outputs": [
    {
     "data": {
      "text/html": [
       "<div>\n",
       "<style scoped>\n",
       "    .dataframe tbody tr th:only-of-type {\n",
       "        vertical-align: middle;\n",
       "    }\n",
       "\n",
       "    .dataframe tbody tr th {\n",
       "        vertical-align: top;\n",
       "    }\n",
       "\n",
       "    .dataframe thead th {\n",
       "        text-align: right;\n",
       "    }\n",
       "</style>\n",
       "<table border=\"1\" class=\"dataframe\">\n",
       "  <thead>\n",
       "    <tr style=\"text-align: right;\">\n",
       "      <th></th>\n",
       "      <th>FKAccuracy</th>\n",
       "      <th>HeadingAccuracy</th>\n",
       "      <th>ShortPassing</th>\n",
       "      <th>Dribbling</th>\n",
       "      <th>BallControl</th>\n",
       "      <th>SprintSpeed</th>\n",
       "      <th>Reactions</th>\n",
       "      <th>Strength</th>\n",
       "      <th>LongShots</th>\n",
       "      <th>Aggression</th>\n",
       "      <th>Positioning</th>\n",
       "      <th>Vision</th>\n",
       "    </tr>\n",
       "  </thead>\n",
       "  <tbody>\n",
       "    <tr>\n",
       "      <th>count</th>\n",
       "      <td>149.000000</td>\n",
       "      <td>149.000000</td>\n",
       "      <td>149.000000</td>\n",
       "      <td>149.000000</td>\n",
       "      <td>149.000000</td>\n",
       "      <td>149.000000</td>\n",
       "      <td>149.000000</td>\n",
       "      <td>149.000000</td>\n",
       "      <td>149.00000</td>\n",
       "      <td>149.000000</td>\n",
       "      <td>149.000000</td>\n",
       "      <td>149.000000</td>\n",
       "    </tr>\n",
       "    <tr>\n",
       "      <th>mean</th>\n",
       "      <td>46.644295</td>\n",
       "      <td>62.208054</td>\n",
       "      <td>61.436242</td>\n",
       "      <td>69.724832</td>\n",
       "      <td>69.872483</td>\n",
       "      <td>77.845638</td>\n",
       "      <td>65.214765</td>\n",
       "      <td>63.939597</td>\n",
       "      <td>61.42953</td>\n",
       "      <td>48.382550</td>\n",
       "      <td>68.161074</td>\n",
       "      <td>58.174497</td>\n",
       "    </tr>\n",
       "    <tr>\n",
       "      <th>std</th>\n",
       "      <td>13.184283</td>\n",
       "      <td>8.954295</td>\n",
       "      <td>8.198815</td>\n",
       "      <td>8.118929</td>\n",
       "      <td>6.811446</td>\n",
       "      <td>7.572822</td>\n",
       "      <td>7.976794</td>\n",
       "      <td>12.617142</td>\n",
       "      <td>7.69104</td>\n",
       "      <td>13.689904</td>\n",
       "      <td>7.546314</td>\n",
       "      <td>9.202476</td>\n",
       "    </tr>\n",
       "    <tr>\n",
       "      <th>min</th>\n",
       "      <td>22.000000</td>\n",
       "      <td>33.000000</td>\n",
       "      <td>41.000000</td>\n",
       "      <td>47.000000</td>\n",
       "      <td>51.000000</td>\n",
       "      <td>55.000000</td>\n",
       "      <td>45.000000</td>\n",
       "      <td>27.000000</td>\n",
       "      <td>42.00000</td>\n",
       "      <td>26.000000</td>\n",
       "      <td>51.000000</td>\n",
       "      <td>34.000000</td>\n",
       "    </tr>\n",
       "    <tr>\n",
       "      <th>25%</th>\n",
       "      <td>36.000000</td>\n",
       "      <td>57.000000</td>\n",
       "      <td>56.000000</td>\n",
       "      <td>64.000000</td>\n",
       "      <td>66.000000</td>\n",
       "      <td>74.000000</td>\n",
       "      <td>59.000000</td>\n",
       "      <td>57.000000</td>\n",
       "      <td>56.00000</td>\n",
       "      <td>35.000000</td>\n",
       "      <td>62.000000</td>\n",
       "      <td>52.000000</td>\n",
       "    </tr>\n",
       "    <tr>\n",
       "      <th>50%</th>\n",
       "      <td>42.000000</td>\n",
       "      <td>62.000000</td>\n",
       "      <td>61.000000</td>\n",
       "      <td>70.000000</td>\n",
       "      <td>70.000000</td>\n",
       "      <td>78.000000</td>\n",
       "      <td>65.000000</td>\n",
       "      <td>65.000000</td>\n",
       "      <td>61.00000</td>\n",
       "      <td>48.000000</td>\n",
       "      <td>68.000000</td>\n",
       "      <td>58.000000</td>\n",
       "    </tr>\n",
       "    <tr>\n",
       "      <th>75%</th>\n",
       "      <td>56.000000</td>\n",
       "      <td>69.000000</td>\n",
       "      <td>67.000000</td>\n",
       "      <td>75.000000</td>\n",
       "      <td>74.000000</td>\n",
       "      <td>84.000000</td>\n",
       "      <td>71.000000</td>\n",
       "      <td>73.000000</td>\n",
       "      <td>67.00000</td>\n",
       "      <td>58.000000</td>\n",
       "      <td>74.000000</td>\n",
       "      <td>64.000000</td>\n",
       "    </tr>\n",
       "    <tr>\n",
       "      <th>max</th>\n",
       "      <td>78.000000</td>\n",
       "      <td>78.000000</td>\n",
       "      <td>81.000000</td>\n",
       "      <td>90.000000</td>\n",
       "      <td>87.000000</td>\n",
       "      <td>93.000000</td>\n",
       "      <td>82.000000</td>\n",
       "      <td>91.000000</td>\n",
       "      <td>78.00000</td>\n",
       "      <td>81.000000</td>\n",
       "      <td>85.000000</td>\n",
       "      <td>79.000000</td>\n",
       "    </tr>\n",
       "  </tbody>\n",
       "</table>\n",
       "</div>"
      ],
      "text/plain": [
       "       FKAccuracy  HeadingAccuracy  ShortPassing   Dribbling  BallControl  \\\n",
       "count  149.000000       149.000000    149.000000  149.000000   149.000000   \n",
       "mean    46.644295        62.208054     61.436242   69.724832    69.872483   \n",
       "std     13.184283         8.954295      8.198815    8.118929     6.811446   \n",
       "min     22.000000        33.000000     41.000000   47.000000    51.000000   \n",
       "25%     36.000000        57.000000     56.000000   64.000000    66.000000   \n",
       "50%     42.000000        62.000000     61.000000   70.000000    70.000000   \n",
       "75%     56.000000        69.000000     67.000000   75.000000    74.000000   \n",
       "max     78.000000        78.000000     81.000000   90.000000    87.000000   \n",
       "\n",
       "       SprintSpeed   Reactions    Strength  LongShots  Aggression  \\\n",
       "count   149.000000  149.000000  149.000000  149.00000  149.000000   \n",
       "mean     77.845638   65.214765   63.939597   61.42953   48.382550   \n",
       "std       7.572822    7.976794   12.617142    7.69104   13.689904   \n",
       "min      55.000000   45.000000   27.000000   42.00000   26.000000   \n",
       "25%      74.000000   59.000000   57.000000   56.00000   35.000000   \n",
       "50%      78.000000   65.000000   65.000000   61.00000   48.000000   \n",
       "75%      84.000000   71.000000   73.000000   67.00000   58.000000   \n",
       "max      93.000000   82.000000   91.000000   78.00000   81.000000   \n",
       "\n",
       "       Positioning      Vision  \n",
       "count   149.000000  149.000000  \n",
       "mean     68.161074   58.174497  \n",
       "std       7.546314    9.202476  \n",
       "min      51.000000   34.000000  \n",
       "25%      62.000000   52.000000  \n",
       "50%      68.000000   58.000000  \n",
       "75%      74.000000   64.000000  \n",
       "max      85.000000   79.000000  "
      ]
     },
     "execution_count": 23,
     "metadata": {},
     "output_type": "execute_result"
    }
   ],
   "source": [
    "X_train.describe()"
   ]
  },
  {
   "cell_type": "code",
   "execution_count": 24,
   "metadata": {},
   "outputs": [
    {
     "data": {
      "text/plain": [
       "count    60.000000\n",
       "mean     73.583333\n",
       "std       5.456427\n",
       "min      63.000000\n",
       "25%      69.750000\n",
       "50%      73.000000\n",
       "75%      77.250000\n",
       "max      91.000000\n",
       "Name: target, dtype: float64"
      ]
     },
     "execution_count": 24,
     "metadata": {},
     "output_type": "execute_result"
    }
   ],
   "source": [
    "y_test.describe()"
   ]
  },
  {
   "cell_type": "code",
   "execution_count": 25,
   "metadata": {},
   "outputs": [],
   "source": [
    "my_model = regression_results['Huber Regression']['Model']\n",
    "my_features = regression_results['Huber Regression']['attributes']\n"
   ]
  },
  {
   "cell_type": "code",
   "execution_count": 26,
   "metadata": {},
   "outputs": [
    {
     "data": {
      "text/plain": [
       "60"
      ]
     },
     "execution_count": 26,
     "metadata": {},
     "output_type": "execute_result"
    }
   ],
   "source": [
    "result_df = pd.Series(my_model.predict(X_test_scaled_df[my_features]),index=X_test_scaled_df.index)\n",
    "len(result_df)"
   ]
  },
  {
   "cell_type": "code",
   "execution_count": 27,
   "metadata": {},
   "outputs": [
    {
     "data": {
      "text/plain": [
       "<Axes: >"
      ]
     },
     "execution_count": 27,
     "metadata": {},
     "output_type": "execute_result"
    },
    {
     "data": {
      "image/png": "[encoded data removed]",
      "text/plain": [
       "<Figure size 640x480 with 1 Axes>"
      ]
     },
     "metadata": {},
     "output_type": "display_data"
    }
   ],
   "source": [
    "(y_test-result_df).sort_values(ascending=False).hist()"
   ]
  },
  {
   "cell_type": "code",
   "execution_count": 28,
   "metadata": {},
   "outputs": [
    {
     "data": {
      "text/plain": [
       "<Axes: >"
      ]
     },
     "execution_count": 28,
     "metadata": {},
     "output_type": "execute_result"
    },
    {
     "data": {
      "image/png": "[encoded data removed]",
      "text/plain": [
       "<Figure size 640x480 with 1 Axes>"
      ]
     },
     "metadata": {},
     "output_type": "display_data"
    }
   ],
   "source": [
    "result_df.sort_values(ascending=False).hist()"
   ]
  },
  {
   "cell_type": "code",
   "execution_count": 29,
   "metadata": {},
   "outputs": [
    {
     "data": {
      "text/plain": [
       "count    60.000000\n",
       "mean     -1.127348\n",
       "std       4.108735\n",
       "min      -8.483308\n",
       "25%      -3.186405\n",
       "50%      -1.885012\n",
       "75%       0.820210\n",
       "max      12.787273\n",
       "dtype: float64"
      ]
     },
     "execution_count": 29,
     "metadata": {},
     "output_type": "execute_result"
    }
   ],
   "source": [
    "(y_test-result_df).describe()"
   ]
  },
  {
   "cell_type": "code",
   "execution_count": 30,
   "metadata": {},
   "outputs": [
    {
     "data": {
      "text/html": [
       "<div>\n",
       "<style scoped>\n",
       "    .dataframe tbody tr th:only-of-type {\n",
       "        vertical-align: middle;\n",
       "    }\n",
       "\n",
       "    .dataframe tbody tr th {\n",
       "        vertical-align: top;\n",
       "    }\n",
       "\n",
       "    .dataframe thead th {\n",
       "        text-align: right;\n",
       "    }\n",
       "</style>\n",
       "<table border=\"1\" class=\"dataframe\">\n",
       "  <thead>\n",
       "    <tr style=\"text-align: right;\">\n",
       "      <th></th>\n",
       "      <th></th>\n",
       "      <th></th>\n",
       "      <th>FKAccuracy</th>\n",
       "      <th>HeadingAccuracy</th>\n",
       "      <th>ShortPassing</th>\n",
       "      <th>Dribbling</th>\n",
       "      <th>BallControl</th>\n",
       "      <th>SprintSpeed</th>\n",
       "      <th>Reactions</th>\n",
       "      <th>Strength</th>\n",
       "      <th>LongShots</th>\n",
       "      <th>Aggression</th>\n",
       "      <th>Positioning</th>\n",
       "      <th>Vision</th>\n",
       "    </tr>\n",
       "    <tr>\n",
       "      <th>ID</th>\n",
       "      <th>Name</th>\n",
       "      <th>FIFA</th>\n",
       "      <th></th>\n",
       "      <th></th>\n",
       "      <th></th>\n",
       "      <th></th>\n",
       "      <th></th>\n",
       "      <th></th>\n",
       "      <th></th>\n",
       "      <th></th>\n",
       "      <th></th>\n",
       "      <th></th>\n",
       "      <th></th>\n",
       "      <th></th>\n",
       "    </tr>\n",
       "  </thead>\n",
       "  <tbody>\n",
       "    <tr>\n",
       "      <th>241721</th>\n",
       "      <th>Rafael Leão</th>\n",
       "      <th>2020</th>\n",
       "      <td>58.0</td>\n",
       "      <td>58.0</td>\n",
       "      <td>67.0</td>\n",
       "      <td>77.0</td>\n",
       "      <td>75.0</td>\n",
       "      <td>86.0</td>\n",
       "      <td>73.0</td>\n",
       "      <td>77.0</td>\n",
       "      <td>62.0</td>\n",
       "      <td>59.0</td>\n",
       "      <td>78.0</td>\n",
       "      <td>69.0</td>\n",
       "    </tr>\n",
       "    <tr>\n",
       "      <th>246191</th>\n",
       "      <th>J. Álvarez</th>\n",
       "      <th>2020</th>\n",
       "      <td>66.0</td>\n",
       "      <td>60.0</td>\n",
       "      <td>63.0</td>\n",
       "      <td>68.0</td>\n",
       "      <td>72.0</td>\n",
       "      <td>78.0</td>\n",
       "      <td>66.0</td>\n",
       "      <td>40.0</td>\n",
       "      <td>59.0</td>\n",
       "      <td>32.0</td>\n",
       "      <td>65.0</td>\n",
       "      <td>60.0</td>\n",
       "    </tr>\n",
       "    <tr>\n",
       "      <th>239085</th>\n",
       "      <th>E. Håland</th>\n",
       "      <th>2020</th>\n",
       "      <td>51.0</td>\n",
       "      <td>62.0</td>\n",
       "      <td>67.0</td>\n",
       "      <td>72.0</td>\n",
       "      <td>74.0</td>\n",
       "      <td>83.0</td>\n",
       "      <td>72.0</td>\n",
       "      <td>84.0</td>\n",
       "      <td>62.0</td>\n",
       "      <td>81.0</td>\n",
       "      <td>73.0</td>\n",
       "      <td>57.0</td>\n",
       "    </tr>\n",
       "    <tr>\n",
       "      <th>248805</th>\n",
       "      <th>Sergio Camello</th>\n",
       "      <th>2020</th>\n",
       "      <td>34.0</td>\n",
       "      <td>61.0</td>\n",
       "      <td>62.0</td>\n",
       "      <td>65.0</td>\n",
       "      <td>66.0</td>\n",
       "      <td>64.0</td>\n",
       "      <td>64.0</td>\n",
       "      <td>47.0</td>\n",
       "      <td>60.0</td>\n",
       "      <td>27.0</td>\n",
       "      <td>67.0</td>\n",
       "      <td>54.0</td>\n",
       "    </tr>\n",
       "    <tr>\n",
       "      <th>253072</th>\n",
       "      <th>D. Núñez</th>\n",
       "      <th>2021</th>\n",
       "      <td>61.0</td>\n",
       "      <td>73.0</td>\n",
       "      <td>61.0</td>\n",
       "      <td>69.0</td>\n",
       "      <td>70.0</td>\n",
       "      <td>79.0</td>\n",
       "      <td>67.0</td>\n",
       "      <td>79.0</td>\n",
       "      <td>68.0</td>\n",
       "      <td>61.0</td>\n",
       "      <td>70.0</td>\n",
       "      <td>48.0</td>\n",
       "    </tr>\n",
       "    <tr>\n",
       "      <th>256853</th>\n",
       "      <th>M. Tillman</th>\n",
       "      <th>2021</th>\n",
       "      <td>32.0</td>\n",
       "      <td>59.0</td>\n",
       "      <td>57.0</td>\n",
       "      <td>62.0</td>\n",
       "      <td>62.0</td>\n",
       "      <td>65.0</td>\n",
       "      <td>54.0</td>\n",
       "      <td>59.0</td>\n",
       "      <td>59.0</td>\n",
       "      <td>41.0</td>\n",
       "      <td>57.0</td>\n",
       "      <td>53.0</td>\n",
       "    </tr>\n",
       "    <tr>\n",
       "      <th>246430</th>\n",
       "      <th>D. Vlahović</th>\n",
       "      <th>2021</th>\n",
       "      <td>37.0</td>\n",
       "      <td>68.0</td>\n",
       "      <td>60.0</td>\n",
       "      <td>70.0</td>\n",
       "      <td>72.0</td>\n",
       "      <td>66.0</td>\n",
       "      <td>68.0</td>\n",
       "      <td>68.0</td>\n",
       "      <td>64.0</td>\n",
       "      <td>50.0</td>\n",
       "      <td>74.0</td>\n",
       "      <td>54.0</td>\n",
       "    </tr>\n",
       "    <tr>\n",
       "      <th>238616</th>\n",
       "      <th>Pedro Neto</th>\n",
       "      <th>2020</th>\n",
       "      <td>40.0</td>\n",
       "      <td>51.0</td>\n",
       "      <td>60.0</td>\n",
       "      <td>70.0</td>\n",
       "      <td>71.0</td>\n",
       "      <td>78.0</td>\n",
       "      <td>65.0</td>\n",
       "      <td>40.0</td>\n",
       "      <td>62.0</td>\n",
       "      <td>32.0</td>\n",
       "      <td>64.0</td>\n",
       "      <td>56.0</td>\n",
       "    </tr>\n",
       "    <tr>\n",
       "      <th>252324</th>\n",
       "      <th>Riquelme</th>\n",
       "      <th>2020</th>\n",
       "      <td>44.0</td>\n",
       "      <td>46.0</td>\n",
       "      <td>62.0</td>\n",
       "      <td>63.0</td>\n",
       "      <td>64.0</td>\n",
       "      <td>64.0</td>\n",
       "      <td>62.0</td>\n",
       "      <td>47.0</td>\n",
       "      <td>59.0</td>\n",
       "      <td>58.0</td>\n",
       "      <td>65.0</td>\n",
       "      <td>61.0</td>\n",
       "    </tr>\n",
       "  </tbody>\n",
       "</table>\n",
       "</div>"
      ],
      "text/plain": [
       "                            FKAccuracy  HeadingAccuracy  ShortPassing  \\\n",
       "ID     Name           FIFA                                              \n",
       "241721 Rafael Leão    2020        58.0             58.0          67.0   \n",
       "246191 J. Álvarez     2020        66.0             60.0          63.0   \n",
       "239085 E. Håland      2020        51.0             62.0          67.0   \n",
       "248805 Sergio Camello 2020        34.0             61.0          62.0   \n",
       "253072 D. Núñez       2021        61.0             73.0          61.0   \n",
       "256853 M. Tillman     2021        32.0             59.0          57.0   \n",
       "246430 D. Vlahović    2021        37.0             68.0          60.0   \n",
       "238616 Pedro Neto     2020        40.0             51.0          60.0   \n",
       "252324 Riquelme       2020        44.0             46.0          62.0   \n",
       "\n",
       "                            Dribbling  BallControl  SprintSpeed  Reactions  \\\n",
       "ID     Name           FIFA                                                   \n",
       "241721 Rafael Leão    2020       77.0         75.0         86.0       73.0   \n",
       "246191 J. Álvarez     2020       68.0         72.0         78.0       66.0   \n",
       "239085 E. Håland      2020       72.0         74.0         83.0       72.0   \n",
       "248805 Sergio Camello 2020       65.0         66.0         64.0       64.0   \n",
       "253072 D. Núñez       2021       69.0         70.0         79.0       67.0   \n",
       "256853 M. Tillman     2021       62.0         62.0         65.0       54.0   \n",
       "246430 D. Vlahović    2021       70.0         72.0         66.0       68.0   \n",
       "238616 Pedro Neto     2020       70.0         71.0         78.0       65.0   \n",
       "252324 Riquelme       2020       63.0         64.0         64.0       62.0   \n",
       "\n",
       "                            Strength  LongShots  Aggression  Positioning  \\\n",
       "ID     Name           FIFA                                                 \n",
       "241721 Rafael Leão    2020      77.0       62.0        59.0         78.0   \n",
       "246191 J. Álvarez     2020      40.0       59.0        32.0         65.0   \n",
       "239085 E. Håland      2020      84.0       62.0        81.0         73.0   \n",
       "248805 Sergio Camello 2020      47.0       60.0        27.0         67.0   \n",
       "253072 D. Núñez       2021      79.0       68.0        61.0         70.0   \n",
       "256853 M. Tillman     2021      59.0       59.0        41.0         57.0   \n",
       "246430 D. Vlahović    2021      68.0       64.0        50.0         74.0   \n",
       "238616 Pedro Neto     2020      40.0       62.0        32.0         64.0   \n",
       "252324 Riquelme       2020      47.0       59.0        58.0         65.0   \n",
       "\n",
       "                            Vision  \n",
       "ID     Name           FIFA          \n",
       "241721 Rafael Leão    2020    69.0  \n",
       "246191 J. Álvarez     2020    60.0  \n",
       "239085 E. Håland      2020    57.0  \n",
       "248805 Sergio Camello 2020    54.0  \n",
       "253072 D. Núñez       2021    48.0  \n",
       "256853 M. Tillman     2021    53.0  \n",
       "246430 D. Vlahović    2021    54.0  \n",
       "238616 Pedro Neto     2020    56.0  \n",
       "252324 Riquelme       2020    61.0  "
      ]
     },
     "execution_count": 30,
     "metadata": {},
     "output_type": "execute_result"
    }
   ],
   "source": [
    "outlier = (y_test-result_df)>3\n",
    "X_test[outlier]\n"
   ]
  },
  {
   "cell_type": "code",
   "execution_count": 31,
   "metadata": {},
   "outputs": [
    {
     "data": {
      "text/plain": [
       "ID      Name            FIFA\n",
       "241721  Rafael Leão     2020    86.0\n",
       "246191  J. Álvarez      2020    80.0\n",
       "239085  E. Håland       2020    91.0\n",
       "248805  Sergio Camello  2020    75.0\n",
       "253072  D. Núñez        2021    82.0\n",
       "256853  M. Tillman      2021    74.0\n",
       "246430  D. Vlahović     2021    84.0\n",
       "238616  Pedro Neto      2020    78.0\n",
       "252324  Riquelme        2020    78.0\n",
       "Name: target, dtype: float64"
      ]
     },
     "execution_count": 31,
     "metadata": {},
     "output_type": "execute_result"
    }
   ],
   "source": [
    "y_test[outlier]"
   ]
  },
  {
   "cell_type": "code",
   "execution_count": 32,
   "metadata": {},
   "outputs": [
    {
     "data": {
      "text/plain": [
       "ID      Name            FIFA\n",
       "241721  Rafael Leão     2020    79.807835\n",
       "246191  J. Álvarez      2020    75.656472\n",
       "239085  E. Håland       2020    78.212727\n",
       "248805  Sergio Camello  2020    71.144724\n",
       "253072  D. Núñez        2021    77.676082\n",
       "256853  M. Tillman      2021    70.687100\n",
       "246430  D. Vlahović     2021    74.894731\n",
       "238616  Pedro Neto      2020    72.144895\n",
       "252324  Riquelme        2020    70.044939\n",
       "dtype: float64"
      ]
     },
     "execution_count": 32,
     "metadata": {},
     "output_type": "execute_result"
    }
   ],
   "source": [
    "result_df[outlier]"
   ]
  },
  {
   "cell_type": "code",
   "execution_count": 33,
   "metadata": {},
   "outputs": [
    {
     "data": {
      "text/plain": [
       "count    60.000000\n",
       "mean      0.984816\n",
       "std       0.054900\n",
       "min       0.882962\n",
       "25%       0.956349\n",
       "50%       0.973604\n",
       "75%       1.010410\n",
       "max       1.163494\n",
       "dtype: float64"
      ]
     },
     "execution_count": 33,
     "metadata": {},
     "output_type": "execute_result"
    }
   ],
   "source": [
    "(y_test/result_df).describe()"
   ]
  },
  {
   "cell_type": "code",
   "execution_count": 34,
   "metadata": {},
   "outputs": [
    {
     "data": {
      "text/plain": [
       "count    60.000000\n",
       "mean      0.984816\n",
       "std       0.054900\n",
       "min       0.882962\n",
       "25%       0.956349\n",
       "50%       0.973604\n",
       "75%       1.010410\n",
       "max       1.163494\n",
       "dtype: float64"
      ]
     },
     "execution_count": 34,
     "metadata": {},
     "output_type": "execute_result"
    }
   ],
   "source": [
    "(y_test/result_df).describe()"
   ]
  },
  {
   "cell_type": "code",
   "execution_count": 35,
   "metadata": {},
   "outputs": [
    {
     "data": {
      "text/plain": [
       "array([[1.        , 0.65831536],\n",
       "       [0.65831536, 1.        ]])"
      ]
     },
     "execution_count": 35,
     "metadata": {},
     "output_type": "execute_result"
    }
   ],
   "source": [
    "np.corrcoef(y_test,result_df)"
   ]
  },
  {
   "cell_type": "code",
   "execution_count": 36,
   "metadata": {},
   "outputs": [
    {
     "data": {
      "image/png": "[encoded data removed]",
      "text/plain": [
       "<Figure size 640x480 with 1 Axes>"
      ]
     },
     "metadata": {},
     "output_type": "display_data"
    }
   ],
   "source": [
    "\n",
    "plt.scatter(y_test, result_df, color='blue', alpha=0.5)\n",
    "plt.plot([min(y_test), max(y_test)], [min(y_test), max(y_test)], color='red', linestyle='--', label='Diagonal line')\n",
    "\n",
    "plt.title('Scatter Plot of y_test vs result_df')\n",
    "plt.xlabel('y_test')\n",
    "plt.ylabel('result_df')\n",
    "plt.show()"
   ]
  },
  {
   "cell_type": "code",
   "execution_count": 37,
   "metadata": {},
   "outputs": [],
   "source": [
    "result_df = result_df.sort_values(ascending=False)"
   ]
  },
  {
   "cell_type": "code",
   "execution_count": 38,
   "metadata": {},
   "outputs": [
    {
     "data": {
      "text/plain": [
       "ID      Name              FIFA\n",
       "221479  D. Calvert-Lewin  2020    82.801955\n",
       "231447  D. Malen          2020    81.316157\n",
       "251470  C. De Ketelaere   2021    80.433336\n",
       "241522  J. Wind           2021    80.325994\n",
       "243630  J. David          2020    80.170124\n",
       "235866  C. Kouamé         2020    79.897228\n",
       "241721  Rafael Leão       2020    79.807835\n",
       "233732  D. Okereke        2020    79.463009\n",
       "251756  R. Nteka          2021    79.042713\n",
       "245158  L. Suárez         2021    78.783927\n",
       "244797  P. Musa           2021    78.651491\n",
       "251852  K. Adeyemi        2021    78.638303\n",
       "246186  Arthur Cabral     2021    78.247310\n",
       "239085  E. Håland         2020    78.212727\n",
       "253072  D. Núñez          2021    77.676082\n",
       "245940  S. Wamangituka    2020    77.560601\n",
       "244622  Puado             2020    77.183012\n",
       "247888  S. Esposito       2021    76.502447\n",
       "252042  João Pedro        2021    76.460094\n",
       "246147  M. Greenwood      2020    76.231926\n",
       "246191  J. Álvarez        2020    75.656472\n",
       "246762  S. Koita          2021    75.352694\n",
       "243315  Dani Gómez        2020    75.062933\n",
       "225668  K. Grant          2020    74.996923\n",
       "246728  L. Traoré         2020    74.905238\n",
       "246430  D. Vlahović       2021    74.894731\n",
       "252037  Fábio Silva       2020    74.796516\n",
       "239025  I. Niane          2020    74.682928\n",
       "250961  J. Zirkzee        2020    74.664696\n",
       "238900  E. Demirović      2021    74.576701\n",
       "254849  Y. Badji          2021    74.482466\n",
       "245762  A. Kutucu         2020    74.239808\n",
       "250807  H. Dervişoğlu     2020    74.223233\n",
       "245437  A. Gaich          2020    73.640486\n",
       "256658  J. Ngankam        2021    73.418627\n",
       "241487  J. Ferreira       2020    73.200764\n",
       "240589  Miguel            2020    72.966754\n",
       "245396  V. Supryaga       2021    72.960617\n",
       "238460  R. Brewster       2020    72.684532\n",
       "246044  Andrés Martín     2020    72.661923\n",
       "256882  Javi Cueto        2021    72.483308\n",
       "251198  E. Simms          2020    72.300444\n",
       "254267  B. Białek         2021    72.203729\n",
       "252865  Iker Losada       2021    72.174129\n",
       "238616  Pedro Neto        2020    72.144895\n",
       "251105  D. Joveljić       2020    71.876740\n",
       "245902  T. Parrott        2020    71.865876\n",
       "257612  S. Mara           2021    71.727229\n",
       "246123  D. Redan          2020    71.177806\n",
       "248805  Sergio Camello    2020    71.144724\n",
       "dtype: float64"
      ]
     },
     "execution_count": 38,
     "metadata": {},
     "output_type": "execute_result"
    }
   ],
   "source": [
    "result_df.head(50)"
   ]
  },
  {
   "cell_type": "code",
   "execution_count": 39,
   "metadata": {},
   "outputs": [
    {
     "name": "stdout",
     "output_type": "stream",
     "text": [
      "3\n"
     ]
    },
    {
     "data": {
      "text/plain": [
       "ID      Name              FIFA\n",
       "221479  D. Calvert-Lewin  2020    82.801955\n",
       "231447  D. Malen          2020    81.316157\n",
       "243630  J. David          2020    80.170124\n",
       "dtype: float64"
      ]
     },
     "execution_count": 39,
     "metadata": {},
     "output_type": "execute_result"
    }
   ],
   "source": [
    "bool_ = (result_df>=TARGET_OVERALL)&(y_test>=TARGET_OVERALL)\n",
    "print(bool_.sum())\n",
    "result_df[bool_]"
   ]
  },
  {
   "cell_type": "code",
   "execution_count": 40,
   "metadata": {},
   "outputs": [
    {
     "name": "stdout",
     "output_type": "stream",
     "text": [
      "7\n"
     ]
    },
    {
     "data": {
      "text/plain": [
       "ID      Name           FIFA\n",
       "241721  Rafael Leão    2020    79.807835\n",
       "251852  K. Adeyemi     2021    78.638303\n",
       "246186  Arthur Cabral  2021    78.247310\n",
       "239085  E. Håland      2020    78.212727\n",
       "253072  D. Núñez       2021    77.676082\n",
       "246191  J. Álvarez     2020    75.656472\n",
       "246430  D. Vlahović    2021    74.894731\n",
       "dtype: float64"
      ]
     },
     "execution_count": 40,
     "metadata": {},
     "output_type": "execute_result"
    }
   ],
   "source": [
    "bool_ = (result_df<TARGET_OVERALL)&(y_test>=TARGET_OVERALL)\n",
    "print(bool_.sum())\n",
    "result_df[bool_]"
   ]
  },
  {
   "cell_type": "code",
   "execution_count": 41,
   "metadata": {},
   "outputs": [
    {
     "name": "stdout",
     "output_type": "stream",
     "text": [
      "4\n"
     ]
    },
    {
     "data": {
      "text/plain": [
       "ID      Name              FIFA\n",
       "221479  D. Calvert-Lewin  2020    82.801955\n",
       "231447  D. Malen          2020    81.316157\n",
       "251470  C. De Ketelaere   2021    80.433336\n",
       "241522  J. Wind           2021    80.325994\n",
       "dtype: float64"
      ]
     },
     "execution_count": 41,
     "metadata": {},
     "output_type": "execute_result"
    }
   ],
   "source": [
    "bool_ = (result_df>TARGET_OVERALL)&(y_test<=TARGET_OVERALL)\n",
    "print(bool_.sum())\n",
    "result_df[bool_]"
   ]
  },
  {
   "cell_type": "code",
   "execution_count": 42,
   "metadata": {},
   "outputs": [
    {
     "name": "stdout",
     "output_type": "stream",
     "text": [
      "48\n"
     ]
    },
    {
     "data": {
      "text/plain": [
       "ID      Name            FIFA\n",
       "245762  A. Kutucu       2020    74.239808\n",
       "254849  Y. Badji        2021    74.482466\n",
       "238900  E. Demirović    2021    74.576701\n",
       "250961  J. Zirkzee      2020    74.664696\n",
       "239025  I. Niane        2020    74.682928\n",
       "252037  Fábio Silva     2020    74.796516\n",
       "246728  L. Traoré       2020    74.905238\n",
       "225668  K. Grant        2020    74.996923\n",
       "243315  Dani Gómez      2020    75.062933\n",
       "246762  S. Koita        2021    75.352694\n",
       "246147  M. Greenwood    2020    76.231926\n",
       "252042  João Pedro      2021    76.460094\n",
       "247888  S. Esposito     2021    76.502447\n",
       "244622  Puado           2020    77.183012\n",
       "245940  S. Wamangituka  2020    77.560601\n",
       "244797  P. Musa         2021    78.651491\n",
       "245158  L. Suárez       2021    78.783927\n",
       "251756  R. Nteka        2021    79.042713\n",
       "233732  D. Okereke      2020    79.463009\n",
       "235866  C. Kouamé       2020    79.897228\n",
       "dtype: float64"
      ]
     },
     "execution_count": 42,
     "metadata": {},
     "output_type": "execute_result"
    }
   ],
   "source": [
    "bool_ = (result_df<TARGET_OVERALL)&(y_test<TARGET_OVERALL)\n",
    "print(bool_.sum())\n",
    "result_df[bool_].sort_values().tail(20)"
   ]
  },
  {
   "cell_type": "code",
   "execution_count": 43,
   "metadata": {},
   "outputs": [
    {
     "name": "stdout",
     "output_type": "stream",
     "text": [
      "              precision    recall  f1-score   support\n",
      "\n",
      "       False       0.68      0.62      0.65        40\n",
      "        True       0.35      0.40      0.37        20\n",
      "\n",
      "    accuracy                           0.55        60\n",
      "   macro avg       0.51      0.51      0.51        60\n",
      "weighted avg       0.57      0.55      0.56        60\n",
      "\n"
     ]
    }
   ],
   "source": [
    "\n",
    "print(classification_report(y_test>75, result_df>75))"
   ]
  },
  {
   "cell_type": "code",
   "execution_count": null,
   "metadata": {},
   "outputs": [],
   "source": []
  }
 ],
 "metadata": {
  "kernelspec": {
   "display_name": "Python 3",
   "language": "python",
   "name": "python3"
  },
  "language_info": {
   "codemirror_mode": {
    "name": "ipython",
    "version": 3
   },
   "file_extension": ".py",
   "mimetype": "text/x-python",
   "name": "python",
   "nbconvert_exporter": "python",
   "pygments_lexer": "ipython3",
   "version": "3.11.4"
  },
  "orig_nbformat": 4
 },
 "nbformat": 4,
 "nbformat_minor": 2
}
