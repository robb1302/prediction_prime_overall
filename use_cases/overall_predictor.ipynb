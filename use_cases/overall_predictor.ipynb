{
 "cells": [
  {
   "cell_type": "code",
   "execution_count": null,
   "metadata": {},
   "outputs": [],
   "source": [
    "import os\n",
    "import pandas as pd\n",
    "import numpy as np\n",
    "import sys\n",
    "import os\n",
    "\n",
    "def find_and_append_module_path():\n",
    "    current_dir = os.getcwd()\n",
    "    substring_to_find = 'statsfaction'\n",
    "    index = current_dir.rfind(substring_to_find)\n",
    "    \n",
    "    if index != -1:\n",
    "        # Extract the directory path up to and including the last \"mypath\" occurrence\n",
    "        new_dir = current_dir[:index + (len(substring_to_find))]\n",
    "\n",
    "        # Change the current working directory to the new directory\n",
    "        os.chdir(new_dir)\n",
    "        sys.path.append(new_dir)\n",
    "        # Verify the new current directory\n",
    "        print(\"New current directory:\", os.getcwd())\n",
    "    else:\n",
    "        print(\"No 'mypath' found in the current directory\")\n",
    "\n",
    "find_and_append_module_path()\n",
    "os.getcwd()\n"
   ]
  },
  {
   "cell_type": "code",
   "execution_count": null,
   "metadata": {},
   "outputs": [],
   "source": [
    "from prediction_prime_overall.src.predict import predict_and_explain_players, analyze_individual_ID\n",
    "from prediction_prime_overall.src.eval import create_polar_plot\n",
    "import prediction_prime_overall.config as CONFIG"
   ]
  },
  {
   "cell_type": "markdown",
   "metadata": {},
   "source": [
    "# Import your group to analyze"
   ]
  },
  {
   "cell_type": "code",
   "execution_count": null,
   "metadata": {},
   "outputs": [],
   "source": [
    "sql_prospect = f\"\"\"\n",
    "SELECT min(Age) as potential_age,* FROM  fifa WHERE  FIFA = 2024 and Age < 23 and potential > 70 and overall <90\n",
    "GROUP BY ID\n",
    "order by potential DESC;\n",
    "\"\"\"\n",
    "\n",
    "\n",
    "import pandas as pd\n",
    "import sqlite3\n",
    "DATABASE_PATH = \"data/sport_analytics/database/football.db\"\n",
    "# Step 1: Establish a database connection\n",
    "conn = sqlite3.connect(CONFIG.DATABASE)\n",
    "\n",
    "df_prospect = pd.read_sql_query(sql_prospect, conn)\n",
    "\n",
    "conn.close()\n",
    "\n",
    "# Seiten wurden umgestellt und Feld hat jetzt neuen Inhalt\n",
    "# df_prospect['Position'] = [value.strip() for item in df_prospect[\"Position\"] for value in item.split(',')]\n",
    "# df_prospect['Position'] = [i.replace(' ',',') for i in df_prospect['Position']]\n",
    "\n",
    "df_prospect.head()"
   ]
  },
  {
   "cell_type": "markdown",
   "metadata": {},
   "source": [
    "## Choose a from a Set of trained models"
   ]
  },
  {
   "cell_type": "code",
   "execution_count": null,
   "metadata": {},
   "outputs": [],
   "source": [
    "import pickle\n",
    "NAME = \"offense_potential_forward_min_pot_min_prime\"\n",
    "ACTUAL_MODEL = \"offense_potential_forward_general_age\"\n",
    "with open(f\"{CONFIG.MODELS}/{NAME}.pkl\", \"rb\") as file:\n",
    "    loaded_object = pickle.load(file)\n",
    "\n",
    "chosen_object = loaded_object[ 'Gradient Boosting Regressor']\n",
    "model = chosen_object['Model']\n",
    "scaler = chosen_object['Scaler']\n",
    "attributes = chosen_object['attributes']\n",
    "explainer = chosen_object['explainer']\n",
    "print(chosen_object['Classification Report'])\n",
    "# print(chosen_object['AUC'])"
   ]
  },
  {
   "cell_type": "code",
   "execution_count": null,
   "metadata": {},
   "outputs": [],
   "source": [
    "# Mathys Tel\n",
    "player_attr = {\t\n",
    "    \"Age\":18,\n",
    "    \"Crossing\":56,\n",
    "    \"Finishing\":78,\n",
    "    \"Heading accuracy\":61,\n",
    "    \"ShortPassing\":68,\n",
    "     \"Volleys\":63,\n",
    "    \n",
    "    \"Dribbling\":79,\n",
    "    \"FKAccuracy\":56,\n",
    "    \"LongPassing\":59,\n",
    "    \"BallControl\":77,\n",
    "\n",
    "\n",
    "    \"Acceleration\":79,\n",
    "    \"Reactions\":60,\n",
    "\n",
    "     'Aggression':48,\n",
    "     \"Positioning\":73,\n",
    "\n",
    "     \"Vision\":70,\n",
    "    'Composure':74,\n",
    "\n",
    "    \"ShotPower\":82,\n",
    "\n",
    "    \"Jumping\":75,\n",
    "    \"Strength\":67,\n",
    "    \"LongShots\":73,\n",
    "}"
   ]
  },
  {
   "cell_type": "markdown",
   "metadata": {},
   "source": [
    "# Outer Midfielder"
   ]
  },
  {
   "cell_type": "code",
   "execution_count": null,
   "metadata": {},
   "outputs": [],
   "source": [
    "loaded_object = pd.read_pickle(\"prediction_prime_overall/data/models/outside_midfielder_prime.pkl\")[ 'Gradient Boosting Regressor']\n",
    "model = loaded_object['Model']\n",
    "scaler = loaded_object['Scaler']\n",
    "print(model.feature_names_in_)\n",
    "\n",
    "\n",
    "\n",
    "input_model = pd.DataFrame(pd.Series(player_attr)).T\n",
    "input_model = scaler.transform(input_model[model.feature_names_in_])\n",
    "print(model.predict(input_model))\n",
    "explainer = loaded_object['explainer']\n",
    "pd.DataFrame(index=model.feature_names_in_, data = explainer.shap_values(input_model)[0])"
   ]
  },
  {
   "cell_type": "markdown",
   "metadata": {},
   "source": [
    "## Winger"
   ]
  },
  {
   "cell_type": "code",
   "execution_count": null,
   "metadata": {},
   "outputs": [],
   "source": [
    "loaded_winger = pd.read_pickle(\"prediction_prime_overall/data/models/winger_prime.pkl\")[ 'Gradient Boosting Regressor']\n",
    "model = loaded_winger['Model']\n",
    "scaler = loaded_winger['Scaler']\n",
    "print(model.feature_names_in_)\n",
    "\n",
    "\n",
    "\n",
    "input_model = pd.DataFrame(pd.Series(player_attr)).T\n",
    "input_model = scaler.transform(input_model[model.feature_names_in_])\n",
    "print(model.predict(input_model))\n",
    "explainer = loaded_winger['explainer']\n",
    "pd.DataFrame(index=model.feature_names_in_, data = explainer.shap_values(input_model)[0])"
   ]
  },
  {
   "cell_type": "markdown",
   "metadata": {},
   "source": [
    "## Center Forward"
   ]
  },
  {
   "cell_type": "code",
   "execution_count": null,
   "metadata": {},
   "outputs": [],
   "source": [
    "loaded_object = pd.read_pickle(\"prediction_prime_overall/data/models/forward_prime.pkl\")[ 'Gradient Boosting Regressor']\n",
    "model = loaded_object['Model']\n",
    "scaler = loaded_object['Scaler']\n",
    "print(model.feature_names_in_)\n",
    "\n",
    "\n",
    "input_model = pd.DataFrame(pd.Series(player_attr)).T\n",
    "input_model = scaler.transform(input_model[model.feature_names_in_])\n",
    "print(model.predict(input_model))\n",
    "\n",
    "explainer = loaded_object['explainer']\n",
    "pd.DataFrame(index=model.feature_names_in_, data = explainer.shap_values(input_model)[0])"
   ]
  },
  {
   "cell_type": "markdown",
   "metadata": {},
   "source": [
    "## Attacking Midfielder"
   ]
  },
  {
   "cell_type": "code",
   "execution_count": null,
   "metadata": {},
   "outputs": [],
   "source": [
    "loaded_winger = pd.read_pickle(\"prediction_prime_overall/data/models/attacking_midfielder_prime.pkl\")[ 'Gradient Boosting Regressor']\n",
    "model = loaded_winger['Model']\n",
    "scaler = loaded_winger['Scaler']\n",
    "print(model.feature_names_in_)\n",
    "\n",
    "\n",
    "input_model = pd.DataFrame(pd.Series(player_attr)).T\n",
    "input_model = scaler.transform(input_model[model.feature_names_in_])\n",
    "print(model.predict(input_model))\n",
    "\n",
    "explainer = loaded_winger['explainer']\n",
    "pd.DataFrame(index=model.feature_names_in_, data = explainer.shap_values(input_model)[0])"
   ]
  },
  {
   "cell_type": "markdown",
   "metadata": {},
   "source": [
    "## Central Midfielder"
   ]
  },
  {
   "cell_type": "code",
   "execution_count": null,
   "metadata": {},
   "outputs": [],
   "source": [
    "loaded_winger = pd.read_pickle(\"prediction_prime_overall/data/models/central_midfielder_prime.pkl\")[ 'Gradient Boosting Regressor']\n",
    "model = loaded_winger['Model']\n",
    "scaler = loaded_winger['Scaler']\n",
    "print(model.feature_names_in_)\n",
    "\n",
    "\n",
    "input_model = pd.DataFrame(pd.Series(player_attr)).T\n",
    "input_model = scaler.transform(input_model[model.feature_names_in_])\n",
    "print(model.predict(input_model))\n",
    "\n",
    "explainer = loaded_winger['explainer']\n",
    "pd.DataFrame(index=model.feature_names_in_, data = explainer.shap_values(input_model)[0])"
   ]
  },
  {
   "cell_type": "markdown",
   "metadata": {},
   "source": [
    "# Analyze individual Players"
   ]
  },
  {
   "cell_type": "code",
   "execution_count": null,
   "metadata": {},
   "outputs": [],
   "source": [
    "ID = 259399\n",
    "\n",
    "loaded_object = pd.read_pickle(\"prediction_prime_overall/data/models/forward_prime.pkl\")[ 'Gradient Boosting Regressor']\n",
    "model = loaded_object['Model']\n",
    "scaler = loaded_object['Scaler']\n",
    "explainer = loaded_object['explainer']\n",
    "attributes = model.feature_names_in_\n",
    "player = analyze_individual_ID(ID = ID\t,df_raw=df_prospect,attributes=attributes,model = model,scaler=scaler,explainer= explainer)\n",
    "player.rename(index=CONFIG.plot_feature_mapping, inplace=True)\n",
    "create_polar_plot(player['shap'], positive_color= \"white\", negative_color='black')\n",
    "\n",
    "pos_skills = player.shap[player.shap>0]\n",
    "np.round(pos_skills/pos_skills.sum(),2)"
   ]
  },
  {
   "cell_type": "markdown",
   "metadata": {},
   "source": [
    "# Center Forward"
   ]
  },
  {
   "cell_type": "code",
   "execution_count": null,
   "metadata": {},
   "outputs": [],
   "source": [
    "for ID in [268421,259399,240833,251852,256658,256790]:\n",
    "    player = analyze_individual_ID(ID = ID\t,df_raw=df_prospect,attributes=attributes,model = model,scaler=scaler,explainer= explainer)\n",
    "    player.rename(index=CONFIG.plot_feature_mapping, inplace=True)\n",
    "    create_polar_plot(player['shap'], positive_color= \"white\", negative_color='black')\n",
    "    \n",
    "    print(\"-\"*150)\n",
    "    print(\"#\"*150)"
   ]
  },
  {
   "cell_type": "markdown",
   "metadata": {},
   "source": [
    "# Attacking Midfielder"
   ]
  },
  {
   "cell_type": "code",
   "execution_count": null,
   "metadata": {},
   "outputs": [],
   "source": [
    "import pickle\n",
    "ACTUAL = \"offense_potential_attacking_midfielder_age\"\n",
    "NAME = \"attacking_midfielder_prime\"\n",
    "with open(f\"{CONFIG.MODELS}/{NAME}.pkl\", \"rb\") as file:\n",
    "    loaded_object = pickle.load(file)\n",
    "\n",
    "chosen_object = loaded_object[ 'Gradient Boosting Regressor']\n",
    "model = chosen_object['Model']\n",
    "scaler = chosen_object['Scaler']\n",
    "attributes = chosen_object['attributes']\n",
    "explainer = chosen_object['explainer']\n",
    "print(chosen_object['Classification Report'])\n",
    "# print(chosen_object['AUC'])\n"
   ]
  },
  {
   "cell_type": "code",
   "execution_count": null,
   "metadata": {},
   "outputs": [],
   "source": []
  },
  {
   "cell_type": "code",
   "execution_count": null,
   "metadata": {},
   "outputs": [],
   "source": [
    "player_attr = {\t\n",
    "    \"ShortPassing\":88,\n",
    " \t\"Finishing\":84,\n",
    "    \"Positioning\":85,\n",
    "    \"BallControl\":89,\n",
    "    \"Dribbling\":87,\n",
    "    \"Reactions\":85,\n",
    "    \"Vision\":88\n",
    "}\n",
    "input_model = pd.DataFrame(pd.Series(player_attr)).T\n",
    "input_model = scaler.transform(input_model[model.feature_names_in_])\n",
    "input_model"
   ]
  },
  {
   "cell_type": "code",
   "execution_count": null,
   "metadata": {},
   "outputs": [],
   "source": [
    "\n",
    "model.predict(input_model)"
   ]
  },
  {
   "cell_type": "code",
   "execution_count": null,
   "metadata": {},
   "outputs": [],
   "source": []
  },
  {
   "cell_type": "code",
   "execution_count": null,
   "metadata": {},
   "outputs": [],
   "source": [
    "\n",
    "from config import plot_feature_mapping\n",
    "\n",
    "for ID in [251854,256630,256790,251852]:\n",
    "    player = analyze_individual_ID(ID = ID\t,df_raw=df_prospect,attributes=attributes,model = model,scaler=scaler,explainer= explainer)\n",
    "    player.rename(index=plot_feature_mapping, inplace=True)\n",
    "    create_polar_plot(player['shap'], positive_color= \"#5a7b6c\", negative_color='#e34234')\n",
    "    \n",
    "    print(\"-\"*150)\n",
    "    print(\"#\"*150)"
   ]
  },
  {
   "cell_type": "code",
   "execution_count": null,
   "metadata": {},
   "outputs": [],
   "source": []
  },
  {
   "cell_type": "code",
   "execution_count": null,
   "metadata": {},
   "outputs": [],
   "source": []
  }
 ],
 "metadata": {
  "kernelspec": {
   "display_name": "Python 3",
   "language": "python",
   "name": "python3"
  },
  "language_info": {
   "codemirror_mode": {
    "name": "ipython",
    "version": 3
   },
   "file_extension": ".py",
   "mimetype": "text/x-python",
   "name": "python",
   "nbconvert_exporter": "python",
   "pygments_lexer": "ipython3",
   "version": "3.11.4"
  }
 },
 "nbformat": 4,
 "nbformat_minor": 2
}
